{
 "cells": [
  {
   "attachments": {},
   "cell_type": "markdown",
   "metadata": {},
   "source": [
    "# ZAD 1\n",
    "Zaimplementuj przynajmniej 3 \"metryki\" spośród wymienionych: cosinusowa, LCS, DICE, euklidesowa, Levenshteina."
   ]
  },
  {
   "attachments": {},
   "cell_type": "markdown",
   "metadata": {},
   "source": [
    "## Preprocessing and vectorization"
   ]
  },
  {
   "cell_type": "code",
   "execution_count": 56,
   "metadata": {},
   "outputs": [],
   "source": [
    "import re\n",
    "\n",
    "def preprocess(text: str) -> str:\n",
    "    text = text.lower()    \n",
    "    text = re.sub(r'\\W+', ' ', text)\n",
    "    return text\n",
    "\n",
    "def text_to_vec(docs: list[str]) -> list[list[int]]:\n",
    "    \n",
    "    freq_set = set()\n",
    "    freq_dicts = [dict() for _ in docs]\n",
    "    freq_vects = []\n",
    "    for i, doc in enumerate(docs):\n",
    "        doc = preprocess(doc)\n",
    "        for word in doc.split():\n",
    "            if word not in freq_dicts[i]:\n",
    "                freq_dicts[i][word] = 1\n",
    "                freq_set.add(word)\n",
    "            else:\n",
    "                freq_dicts[i][word] += 1\n",
    "    \n",
    "    for f_dict in freq_dicts:\n",
    "        vect = list(f_dict.values())\n",
    "        for _ in range(len(freq_set) - len(f_dict)): vect.append(0)\n",
    "        freq_vects.append(vect)\n",
    "\n",
    "    return freq_vects\n"
   ]
  },
  {
   "cell_type": "code",
   "execution_count": 57,
   "metadata": {},
   "outputs": [],
   "source": [
    "# Tests\n",
    "text_a = \"The quick brown fox jumped over the lazy dog.\"\n",
    "text_b = \"The lazy dog was jumped over by the quick brown fox.\"\n",
    "vec_a, vec_b = text_to_vec([text_a, text_b])\n",
    "\n",
    "assert(set(vec_a) == set([1, 1, 1, 2, 1, 1, 1, 1, 0, 0])) \n",
    "assert(set(vec_b) == set([1, 1, 1, 2, 1, 1, 1, 1, 1, 1]))"
   ]
  },
  {
   "attachments": {},
   "cell_type": "markdown",
   "metadata": {},
   "source": [
    "## Cosine similarity\n",
    "\n",
    "$$\n",
    "\\begin{equation}\n",
    "    \\cos(\\theta) = \\frac{\\mathbf{A} \\cdot \\mathbf{B}}{\\|\\mathbf{A}\\| \\|\\mathbf{B}\\|}= \\frac{\\sum\\limits_{i=1}^{n} A_i B_i}{\\sqrt{\\sum\\limits_{i=1}^{n} A_i^2} \\sqrt{\\sum\\limits_{i=1}^{n} B_i^2}}\n",
    "    \\qquad\\begin{aligned}\n",
    "    &\\text{where:} \\\\\n",
    "    &\\mathbf{A}\\text{ and }\\mathbf{B} \\text{ are the two vectors being compared}\\\\\n",
    "    &n \\text{ is the dimensionality of the vectors}\\\\\n",
    "    &\\theta \\text{ represents the angle between two vectors } \\mathbf{A} \\text{ and } \\mathbf{B} \\text{ in a high-dimensional space}\n",
    "    \\end{aligned}\n",
    "\\end{equation}\n",
    "$$\n",
    "\n",
    "The dot product of $\\mathbf{A}$ and $\\mathbf{B}$ is divided by the product of their Euclidean lengths to normalize the result to a range of [-1, 1]. A value of 1 indicates that the two vectors are identical, while a value of -1 indicates that they are completely dissimilar.\n"
   ]
  },
  {
   "cell_type": "code",
   "execution_count": null,
   "metadata": {},
   "outputs": [],
   "source": [
    "import math\n",
    "\n",
    "def cosine_similarity(text_a: str, text_b: str) -> float:\n",
    "    cosine_similarity = 0\n",
    "    \n",
    "    vec_a, vec_b = text_to_vec([text_a, text_b])\n",
    "    num = 0\n",
    "    for i in range(len(vec_a)):\n",
    "        num += vec_a[i] * vec_b[i]\n",
    "\n",
    "    den_a = 0\n",
    "    for i in range(len(vec_a)):\n",
    "        den_a += vec_a[i] ** 2\n",
    "    den_b = 0\n",
    "    for i in range(len(vec_b)):\n",
    "        den_b += vec_b[i] ** 2\n",
    "\n",
    "    cosine_similarity = num / math.sqrt(den_a*den_b)    \n",
    "\n",
    "    return cosine_similarity"
   ]
  },
  {
   "cell_type": "code",
   "execution_count": 59,
   "metadata": {},
   "outputs": [],
   "source": [
    "# Tests\n",
    "dist = cosine_similarity(text_a, text_b)\n",
    "assert(abs(dist - 0.91986) < 0.0001)"
   ]
  },
  {
   "attachments": {},
   "cell_type": "markdown",
   "metadata": {},
   "source": [
    "## Dice coefficient / Sørensen-Dice Index\n",
    "\n",
    "$$\n",
    "\\begin{equation}\n",
    "    \\text{Dice}(A, B) = \\frac{2 |A \\cap B|}{|A| + |B|} \n",
    "    \\qquad\\begin{aligned}\n",
    "    &\\text{where:} \\\\\n",
    "    &A \\text{ and } B \\text{ represent the two sets being compared} \\\\\n",
    "    &|A| \\text{ and } |B| \\text{ represent the cardinality (number of elements) of the sets} \\\\\n",
    "    &\\text{and } |A \\cap B| \\text{ represents the size of the intersection of the two sets}\n",
    "    \\end{aligned}\n",
    "\\end{equation}\n",
    "$$\n"
   ]
  },
  {
   "cell_type": "code",
   "execution_count": 60,
   "metadata": {},
   "outputs": [
    {
     "data": {
      "text/plain": [
       "0.8888888888888888"
      ]
     },
     "execution_count": 60,
     "metadata": {},
     "output_type": "execute_result"
    }
   ],
   "source": [
    "def dice(text_a: str, text_b: str) -> float:\n",
    "    set_a = set()\n",
    "    set_b = set()\n",
    "    text_a = preprocess(text_a)\n",
    "    text_b = preprocess(text_b)\n",
    "    set_a = set(text_a.split())\n",
    "    set_b = set(text_b.split())\n",
    "\n",
    "    dice = (2 * len(set_a.intersection(set_b))) / (len(set_a) + len(set_b))\n",
    "\n",
    "    return dice\n",
    "\n",
    "dice(text_a, text_b)"
   ]
  },
  {
   "cell_type": "code",
   "execution_count": 61,
   "metadata": {},
   "outputs": [],
   "source": [
    "# Tests\n",
    "dist = dice(text_a, text_b)\n",
    "assert(abs(dist - 0.88888) < 0.0001)"
   ]
  },
  {
   "attachments": {},
   "cell_type": "markdown",
   "metadata": {},
   "source": [
    "## Euclidean distance\n",
    "\n",
    "$$\n",
    "\\begin{equation}\n",
    "    d(x,y) = \\sqrt{\\sum_{i=1}^{n}(x_i-y_i)^2}\n",
    "    \\qquad\\begin{aligned}\n",
    "    &\\text{where:} \\\\\n",
    "    &d(x,y) \\text{ is the Euclidean distance} \\\\\n",
    "    &x_i, y_i \\text{ are the values of the i-th dimension of vectors } x \\text{ and } y \\\\\n",
    "    &n \\text{ is the number of dimensions in the vectors}\n",
    "    \\end{aligned}\n",
    "\\end{equation}\n",
    "$$"
   ]
  },
  {
   "cell_type": "code",
   "execution_count": 62,
   "metadata": {},
   "outputs": [],
   "source": [
    "def euclidean_distance(text_a: str, text_b: str) -> float:\n",
    "    vec_a, vec_b = text_to_vec([text_a, text_b])\n",
    "    sum_sqr = 0\n",
    "    for i in range(len(vec_a)):\n",
    "        sum_sqr += (vec_a[i] - vec_b[i])**2\n",
    "    dist = math.sqrt(sum_sqr)    \n",
    "    \n",
    "    return dist"
   ]
  },
  {
   "cell_type": "code",
   "execution_count": 63,
   "metadata": {},
   "outputs": [],
   "source": [
    "# Tests\n",
    "dist = euclidean_distance(text_a, text_b)\n",
    "assert(abs(dist - 1.4142135) < 0.0001)"
   ]
  },
  {
   "attachments": {},
   "cell_type": "markdown",
   "metadata": {},
   "source": [
    "## LCS - Longest Common Subsequence\n",
    "\n",
    "Longest, common, continuous subsequence of two sequences, aka \"the longest substring\"."
   ]
  },
  {
   "cell_type": "code",
   "execution_count": 92,
   "metadata": {},
   "outputs": [],
   "source": [
    "from typing import Any, Sequence\n",
    "\n",
    "def lcs(seq_a: Sequence[Any], seq_b: Sequence[Any]) -> int:\n",
    "\n",
    "    a, b = seq_a, seq_b\n",
    "    n = len(a)\n",
    "    m = len(b)\n",
    "    maxi = 0\n",
    "    Matrix = [[0 for _ in range(m+1)] for _ in range(n+1)]\n",
    "    for i in range(1, n+1):\n",
    "        for j in range(1, m+1):\n",
    "            if a[i-1] == b[j-1]:\n",
    "                Matrix[i][j] = Matrix[i-1][j-1] + 1\n",
    "                if maxi < Matrix[i][j]:\n",
    "                    maxi = Matrix[i][j]\n",
    "            else:\n",
    "                Matrix[i][j] = max(Matrix[i-1][j], Matrix[i][j-1])\n",
    "\n",
    "    return maxi\n",
    "\n",
    "\n",
    "def word_lcs(text_a: str, text_b: str) -> int:\n",
    "    \n",
    "    seq_a = []\n",
    "    seq_b = []\n",
    "\n",
    "    for word in text_a.split():\n",
    "        seq_a.append(word)\n",
    "    for word in text_b.split():\n",
    "        seq_b.append(word)\n",
    "\n",
    "    return lcs(seq_a, seq_b)\n"
   ]
  },
  {
   "cell_type": "code",
   "execution_count": 93,
   "metadata": {},
   "outputs": [],
   "source": [
    "# Tests\n",
    "assert lcs(\"banana\", \"ananas\") == 5\n",
    "assert word_lcs(text_a, text_b) == 4"
   ]
  },
  {
   "attachments": {},
   "cell_type": "markdown",
   "metadata": {},
   "source": [
    "## Levenshtein distance\n",
    "\n"
   ]
  },
  {
   "cell_type": "code",
   "execution_count": 94,
   "metadata": {},
   "outputs": [],
   "source": [
    "\n",
    "def levenshtein(seq_a: Sequence[Any], seq_b: Sequence[Any]) -> int:\n",
    "\n",
    "    a, b = seq_a, seq_b\n",
    "\n",
    "    n = len(a)\n",
    "    m = len(b)\n",
    "    Matrix = [[0 for _ in range(n+1)] for _ in range(m+1)]\n",
    "\n",
    "    for i in range(n+1):\n",
    "        Matrix[0][i] = i\n",
    "    for j in range(m+1):\n",
    "        Matrix[j][0] = j\n",
    "\n",
    "    for i in range(1, n+1):\n",
    "        for j in range(1, m+1):\n",
    "            if a[i-1] != b[j-1]:\n",
    "                Matrix[j][i] = min(Matrix[j-1][i-1], Matrix[j-1][i], Matrix[j][i-1]) + 1\n",
    "            else:\n",
    "                Matrix[j][i] = Matrix[j-1][i-1]\n",
    "\n",
    "    dist = Matrix[m][n]\n",
    "    return dist\n",
    "\n",
    "\n",
    "def word_levenshtein(text_a: str, text_b: str) -> int:\n",
    "    # You code here:\n",
    "    # Using the above function implement the LCS algorithm for texts.\n",
    "    # Make sure it works on whole words, not on characters.\n",
    "    seq_a = []\n",
    "    seq_b = []\n",
    "        \n",
    "    for word in text_a.split():\n",
    "        seq_a.append(word)\n",
    "    for word in text_b.split():\n",
    "        seq_b.append(word)\n",
    "\n",
    "    return levenshtein(seq_a, seq_b)\n"
   ]
  },
  {
   "cell_type": "code",
   "execution_count": 95,
   "metadata": {},
   "outputs": [],
   "source": [
    "# Tests\n",
    "assert levenshtein(\"banana\", \"ananas\") == 2\n",
    "assert word_levenshtein(text_a, text_b) == 7"
   ]
  },
  {
   "attachments": {},
   "cell_type": "markdown",
   "metadata": {},
   "source": [
    "# ZAD 2\n",
    "Zaimplementuj przynajmniej 1 sposoby oceny jakości klasteryzacji (np. indeks Daviesa-Bouldina)."
   ]
  },
  {
   "cell_type": "code",
   "execution_count": null,
   "metadata": {},
   "outputs": [],
   "source": [
    "def average_distance(cluster, metric, *args):\n",
    "    if len(cluster) < 2:\n",
    "        return 0\n",
    "    elif len(cluster) == 2:\n",
    "        return metric(cluster[0], cluster[1], *args)\n",
    "    dist_sum = 0\n",
    "    for i in range(len(cluster)):\n",
    "        for j in range(i):\n",
    "            dist_sum += metric(cluster[i], cluster[j], *args)\n",
    "    return dist_sum / ((len(cluster) - 2) * (len(cluster) - 1))\n"
   ]
  }
 ],
 "metadata": {
  "kernelspec": {
   "display_name": "venv",
   "language": "python",
   "name": "python3"
  },
  "language_info": {
   "codemirror_mode": {
    "name": "ipython",
    "version": 3
   },
   "file_extension": ".py",
   "mimetype": "text/x-python",
   "name": "python",
   "nbconvert_exporter": "python",
   "pygments_lexer": "ipython3",
   "version": "3.9.12"
  },
  "orig_nbformat": 4
 },
 "nbformat": 4,
 "nbformat_minor": 2
}
