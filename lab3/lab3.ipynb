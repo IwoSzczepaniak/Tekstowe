{
 "cells": [
  {
   "cell_type": "code",
   "execution_count": 66,
   "metadata": {},
   "outputs": [
    {
     "name": "stdout",
     "output_type": "stream",
     "text": [
      "[0, 0, 0, 0, 0, 0, 0, 0, 0, 0, 0, 0]\n",
      "[0, 0, 0, 0, 0, 0, 1, 0, 0, 0, 0, 0]\n",
      "[0, 0, 0, 0, 0, 0, 0, 2, 0, 0, 0, 1]\n",
      "[0, 0, 0, 0, 0, 0, 0, 0, 3, 0, 0, 0]\n",
      "[0, 0, 0, 0, 0, 0, 0, 0, 0, 0, 0, 0]\n",
      "[0, 0, 0, 0, 0, 0, 1, 0, 0, 0, 0, 0]\n",
      "[0, 0, 0, 0, 0, 0, 0, 2, 0, 0, 0, 1]\n",
      "[0, 0, 0, 0, 0, 0, 0, 0, 3, 0, 0, 0]\n",
      "[0, 0, 0, 0, 0, 0, 0, 0, 0, 4, 0, 0]\n",
      "[0, 0, 0, 0, 0, 0, 0, 0, 0, 0, 5, 0]\n",
      "[0, 0, 0, 0, 0, 0, 0, 1, 0, 0, 0, 6]\n",
      "[0, 0, 0, 0, 0, 0, 0, 0, 0, 0, 0, 0]\n",
      "6\n",
      "[0, 0, 0, 0, 0, 0, 0]\n",
      "[0, 0, 0, 0, 0, 0, 0]\n",
      "[0, 1, 0, 1, 0, 1, 0]\n",
      "[0, 0, 2, 0, 2, 0, 0]\n",
      "[0, 1, 0, 3, 0, 3, 0]\n",
      "[0, 0, 2, 0, 4, 0, 0]\n",
      "[0, 0, 0, 0, 0, 0, 0]\n",
      "4\n"
     ]
    }
   ],
   "source": [
    "def found_longest(a,b):\n",
    "    n = len(a)\n",
    "    m = len(b)\n",
    "    maxi = 0\n",
    "    Matrix = [[0 for _ in range(n+2)] for _ in range(m+2)]\n",
    "    for i in range(1, n+1):\n",
    "        for j in range(1, m+1):\n",
    "            if a[i-1] == b[j-1]:\n",
    "\n",
    "                Matrix[i][j] = Matrix[i-1][j-1] + 1\n",
    "                maxi = max(maxi, Matrix[i][j])\n",
    "\n",
    "    for i in range(m+1):    \n",
    "        print(Matrix[i])\n",
    "\n",
    "    return maxi\n",
    "\n",
    "print(found_longest(\"matematyka\", \"informatyka\"))\n",
    "print(found_longest(\"banan\", \"ananas\"))"
   ]
  },
  {
   "cell_type": "code",
   "execution_count": 76,
   "metadata": {},
   "outputs": [
    {
     "name": "stdout",
     "output_type": "stream",
     "text": [
      "[0, 1, 2, 3, 4, 5, 6, 7, 8, 9, 10, 11]\n",
      "[1, 1, 2, 3, 4, 5, 5, 6, 7, 8, 9, 10]\n",
      "[2, 2, 2, 3, 4, 5, 6, 5, 6, 7, 8, 9]\n",
      "[3, 3, 3, 3, 4, 5, 6, 6, 5, 6, 7, 8]\n",
      "[4, 4, 4, 4, 4, 5, 6, 7, 6, 6, 7, 8]\n",
      "[5, 5, 5, 5, 5, 5, 5, 6, 7, 7, 7, 8]\n",
      "[6, 6, 6, 6, 6, 6, 6, 5, 6, 7, 8, 7]\n",
      "[7, 7, 7, 7, 7, 7, 7, 6, 5, 6, 7, 8]\n",
      "[8, 8, 8, 8, 8, 8, 8, 7, 6, 5, 6, 7]\n",
      "[9, 9, 9, 9, 9, 9, 9, 8, 7, 6, 5, 6]\n",
      "[10, 10, 10, 10, 10, 10, 10, 9, 8, 7, 6, 5]\n",
      "5\n",
      "[0, 1, 2, 3, 4, 5, 6]\n",
      "[1, 1, 2, 3, 4, 5, 6]\n",
      "[2, 1, 2, 2, 3, 4, 5]\n",
      "[3, 2, 1, 2, 2, 3, 4]\n",
      "[4, 3, 2, 1, 2, 2, 3]\n",
      "[5, 4, 3, 2, 1, 2, 3]\n",
      "3\n"
     ]
    }
   ],
   "source": [
    "def lev(a,b):\n",
    "    n = len(a)\n",
    "    m = len(b)\n",
    "    Matrix = [[0 for i in range(n+2)] for _ in range(m+2)]\n",
    "\n",
    "    for i in range(n+2):\n",
    "        Matrix[0][i] = i\n",
    "    for i in range(m+2):\n",
    "        Matrix[i][0] = i\n",
    "\n",
    "    for i in range(1, n+1):\n",
    "        for j in range(1, m+1):\n",
    "            if a[i-1] != b[j-1]:\n",
    "                Matrix[i][j] = min(Matrix[i-1][j-1], Matrix[i-1][j], Matrix[i][j-1]) + 1\n",
    "            else:\n",
    "                Matrix[i][j] = Matrix[i-1][j-1]\n",
    "\n",
    "    for i in range(m):    \n",
    "        print(Matrix[i])\n",
    "\n",
    "    return Matrix[m-1][n+1]\n",
    "\n",
    "print(lev(\"matematyka\", \"informatyka\"))\n",
    "print(lev(\"banan\", \"ananas\"))"
   ]
  }
 ],
 "metadata": {
  "kernelspec": {
   "display_name": "base",
   "language": "python",
   "name": "python3"
  },
  "language_info": {
   "name": "python",
   "version": "3.9.12"
  },
  "orig_nbformat": 4
 },
 "nbformat": 4,
 "nbformat_minor": 2
}
