{
 "cells": [
  {
   "cell_type": "code",
   "execution_count": 28,
   "metadata": {},
   "outputs": [
    {
     "name": "stdout",
     "output_type": "stream",
     "text": [
      "6\n",
      "4\n"
     ]
    }
   ],
   "source": [
    "def found_longest(a, b):\n",
    "    n = len(a)\n",
    "    m = len(b)\n",
    "    maxi = 0\n",
    "    Matrix = [[0 for _ in range(m+1)] for _ in range(n+1)]\n",
    "    for i in range(1, n+1):\n",
    "        for j in range(1, m+1):\n",
    "            if a[i-1] == b[j-1]:\n",
    "                Matrix[i][j] = Matrix[i-1][j-1] + 1\n",
    "                maxi = max(maxi, Matrix[i][j])\n",
    "            else:\n",
    "                Matrix[i][j] = 0\n",
    "\n",
    "    # for i in range(n+1):    \n",
    "    #         print(Matrix[i])\n",
    "\n",
    "    return maxi\n",
    "\n",
    "\n",
    "\n",
    "print(found_longest(\"matematyka\", \"informatyka\"))\n",
    "print(found_longest(\"banan\", \"ananas\"))"
   ]
  },
  {
   "attachments": {},
   "cell_type": "markdown",
   "metadata": {},
   "source": [
    "## ZAD1\n",
    "Zaimplementuj algorytm obliczania odległości edycyjnej w taki sposób, aby możliwe było określenie przynajmniej jednej sekwencji edycji (dodanie, usunięcie, zmiana znaku), która pozwala w minimalnej liczbie kroków, przekształcić jeden łańcuch w drugi."
   ]
  },
  {
   "cell_type": "code",
   "execution_count": 29,
   "metadata": {},
   "outputs": [
    {
     "name": "stdout",
     "output_type": "stream",
     "text": [
      "\n",
      "Letters to change: 5\n"
     ]
    },
    {
     "data": {
      "text/plain": [
       "[[0, 1, 2, 3, 4, 5, 6, 7, 8, 9, 10],\n",
       " [1, 1, 2, 3, 4, 5, 6, 7, 8, 9, 10],\n",
       " [2, 2, 2, 3, 4, 5, 6, 7, 8, 9, 10],\n",
       " [3, 3, 3, 3, 4, 5, 6, 7, 8, 9, 10],\n",
       " [4, 4, 4, 4, 4, 5, 6, 7, 8, 9, 10],\n",
       " [5, 5, 5, 5, 5, 5, 6, 7, 8, 9, 10],\n",
       " [6, 5, 6, 6, 6, 5, 6, 7, 8, 9, 10],\n",
       " [7, 6, 5, 6, 7, 6, 5, 6, 7, 8, 9],\n",
       " [8, 7, 6, 5, 6, 7, 6, 5, 6, 7, 8],\n",
       " [9, 8, 7, 6, 6, 7, 7, 6, 5, 6, 7],\n",
       " [10, 9, 8, 7, 7, 7, 8, 7, 6, 5, 6],\n",
       " [11, 10, 9, 8, 8, 8, 7, 8, 7, 6, 5]]"
      ]
     },
     "execution_count": 29,
     "metadata": {},
     "output_type": "execute_result"
    }
   ],
   "source": [
    "def lev(a,b):\n",
    "    n = len(a)\n",
    "    m = len(b)\n",
    "    Matrix = [[0 for _ in range(n+1)] for _ in range(m+1)]\n",
    "\n",
    "    for i in range(n+1):\n",
    "        Matrix[0][i] = i\n",
    "    for j in range(m+1):\n",
    "        Matrix[j][0] = j\n",
    "\n",
    "    for i in range(1, n+1):\n",
    "        for j in range(1, m+1):\n",
    "            if a[i-1] != b[j-1]:\n",
    "                Matrix[j][i] = min(Matrix[j-1][i-1], Matrix[j-1][i], Matrix[j][i-1]) + 1\n",
    "            else:\n",
    "                Matrix[j][i] = Matrix[j-1][i-1]\n",
    "\n",
    "    # for j in range(m+1):    \n",
    "    #     print(Matrix[j])\n",
    "    \n",
    "    print(f\"\\nLetters to change: {Matrix[m][n]}\")\n",
    "    return Matrix\n",
    "\n",
    "lev(\"matematyka\", \"informatyka\")\n",
    "# lev(\"banan\", \"ananas\")\n",
    "\n"
   ]
  },
  {
   "attachments": {},
   "cell_type": "markdown",
   "metadata": {},
   "source": [
    "## ZAD2\n",
    "Na podstawie poprzedniego punktu zaimplementuj prostą wizualizację działania algorytmu, poprzez wskazanie kolejnych wersji pierwszego łańcucha, w których dokonywana jest określona zmiana. \"Wizualizacja\" może działać w trybie tekstowym."
   ]
  },
  {
   "cell_type": "code",
   "execution_count": 38,
   "metadata": {},
   "outputs": [
    {
     "name": "stdout",
     "output_type": "stream",
     "text": [
      "\n",
      "Letters to change: 5\n",
      "_ -> i\n",
      "m -> n\n",
      "a -> f\n",
      "t -> o\n",
      "e -> r\n",
      "m -> m no change\n",
      "a -> a no change\n",
      "t -> t no change\n",
      "y -> y no change\n",
      "k -> k no change\n",
      "a -> a no change\n",
      "\n",
      "Letters to change: 5\n",
      "_ -> n\n",
      "_ -> i\n",
      "_ -> e\n",
      "j -> j no change\n",
      "a -> a no change\n",
      "b -> b no change\n",
      "l -> l no change\n",
      "k -> k no change\n",
      "o -> o no change\n",
      "_ -> w\n",
      "_ -> y\n"
     ]
    }
   ],
   "source": [
    "def vis_lev(a,b):\n",
    "    Matrix = lev(a,b)\n",
    "    n = len(a)\n",
    "    m = len(b)\n",
    "\n",
    "    # cofaj się po skosie dopóki można, gdy zmiana wartości, wypisz znak\n",
    "    c,r = m,n\n",
    "    cnt = 0\n",
    "    res = []\n",
    "    while cnt < Matrix[m][n]:\n",
    "\n",
    "        mini = Matrix[c-1][r-1]\n",
    "        if mini > Matrix[c-1][r]: mini = Matrix[c-1][r]\n",
    "        if mini > Matrix[c][r-1]: mini = Matrix[c][r-1]\n",
    "\n",
    "        \n",
    "        if c > 0 and r > 0 and Matrix[c][r] != Matrix[c-1][r-1] and mini == Matrix[c-1][r-1]: \n",
    "            res.append(f\"{a[r-1]} -> {b[c-1]}\")\n",
    "            cnt += 1\n",
    "            if c > 0: c -= 1\n",
    "            if r > 0: r -= 1\n",
    "        \n",
    "        elif Matrix[c][r] != Matrix[c][r-1] and mini == Matrix[c][r-1]:\n",
    "            res.append(f\"_ -> {b[r-1]}\")\n",
    "            cnt += 1\n",
    "            if r > 0: r -= 1\n",
    "\n",
    "        elif Matrix[c][r] != Matrix[c-1][r] and mini == Matrix[c-1][r]:\n",
    "            res.append(f\"_ -> {b[c-1]}\")\n",
    "            cnt += 1\n",
    "            if c > 0: c -= 1\n",
    "        \n",
    "        else: \n",
    "            res.append(f\"{a[r-1]} -> {b[c-1]} no change\")\n",
    "            if c > 0: c -= 1\n",
    "            if r > 0: r -= 1\n",
    "\n",
    "        if c == 0 and r == 0: \n",
    "            break\n",
    "    \n",
    "    for st in res[::-1]:\n",
    "        print(st)\n",
    "\n",
    "vis_lev(\"matematyka\", \"informatyka\")\n",
    "# vis_lev(\"banan\", \"ananas\")\n",
    "vis_lev(\"jablko\", \"niejablkowy\")\n"
   ]
  }
 ],
 "metadata": {
  "kernelspec": {
   "display_name": "base",
   "language": "python",
   "name": "python3"
  },
  "language_info": {
   "codemirror_mode": {
    "name": "ipython",
    "version": 3
   },
   "file_extension": ".py",
   "mimetype": "text/x-python",
   "name": "python",
   "nbconvert_exporter": "python",
   "pygments_lexer": "ipython3",
   "version": "3.9.12"
  },
  "orig_nbformat": 4
 },
 "nbformat": 4,
 "nbformat_minor": 2
}
