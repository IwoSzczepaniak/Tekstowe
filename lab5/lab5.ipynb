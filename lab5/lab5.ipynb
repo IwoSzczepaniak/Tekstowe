{
 "cells": [
  {
   "attachments": {},
   "cell_type": "markdown",
   "metadata": {},
   "source": [
    "Zadanie dotyczy wyszukiwania wzorców dwuwymiarowych.\n",
    "\n",
    "1. Zaimplementuj algorytm wyszukiwania wzorca 2-wymiarowego \n",
    "2. Znajdź w załączonym pliku \"haystack.txt\" wszyskie sytuacje, gdy taka sama litera występuje na tej samej pozycji w dwóch kolejnych linijkach. Zwróć uwagę, na nierówną długość linii w pliku. \n",
    "3. Znajdź wszystkie wystąpienia \"th\" oraz \"t h\" w dwóch kolejnych liniach na tej samej pozycji. \n",
    "4. Wybierz przynajmniej 4 litery (małe). Znajdź wszystkie wystąpienia tej litery w załączonym pliku \"haystack.png\" \n",
    "5. Znajdź wszystkie wystąpienia słowa \"p a t t e r n\" w haystack.png. \n",
    "6. Porównaj czas budowania automatu i czas wyszukiwania dla różnych rozmiarów wzorca \n",
    "7. Podziel plik na 2, 4 i 8 fragmentów (w poziomie) i porównaj czas przeszukiwania \n"
   ]
  },
  {
   "attachments": {},
   "cell_type": "markdown",
   "metadata": {},
   "source": [
    "## 1.\n"
   ]
  },
  {
   "attachments": {},
   "cell_type": "markdown",
   "metadata": {},
   "source": [
    "Funkcja zwracająca kolumny wzorca"
   ]
  },
  {
   "cell_type": "code",
   "execution_count": null,
   "metadata": {},
   "outputs": [],
   "source": [
    "def get_distinct_columns(pattern):\n",
    "    n = len(pattern[0]) # len of rows\n",
    "    m = len(pattern) # len of columns\n",
    "    \n",
    "    distinct_columns = []\n",
    "    indexes = []\n",
    "    letters = set()\n",
    "    \n",
    "    for j in range(n):\n",
    "        col = []\n",
    "        for i in range(m):\n",
    "            col += [pattern[i][j]]\n",
    "            letters.add(pattern[i][j])\n",
    "            \n",
    "        if col in distinct_columns:\n",
    "            idx = distinct_columns.index(col)\n",
    "            indexes.append(idx)\n",
    "        else:\n",
    "            distinct_columns.append(col)\n",
    "            indexes.append(len(distinct_columns) - 1)\n",
    "            \n",
    "    return distinct_columns, indexes, letters"
   ]
  },
  {
   "cell_type": "code",
   "execution_count": null,
   "metadata": {},
   "outputs": [],
   "source": [
    "pat = [['b', 'c', 'b'], ['a', 'c', 'a'], ['a', 'b', 'a']]\n",
    "# pat = [['a','a'], \n",
    "        #    ['b','a']]\n",
    "\n",
    "cols,idx,letters = get_distinct_columns(pat)\n",
    "print(cols)\n",
    "print(idx)\n",
    "print(letters)"
   ]
  },
  {
   "attachments": {},
   "cell_type": "markdown",
   "metadata": {},
   "source": [
    "Pionowy automat"
   ]
  },
  {
   "cell_type": "code",
   "execution_count": null,
   "metadata": {},
   "outputs": [],
   "source": [
    "def vertical_automaton(cols, letters):\n",
    "    transition_table = [{}]\n",
    "    n = len(cols[0]) # len of rows\n",
    "    m = len(cols) # len of distinct_columns\n",
    "    words = [[]]\n",
    "    states = [0] * m\n",
    "    \n",
    "    for j in range(n):\n",
    "        for i in range(m):\n",
    "            if cols[i][j] in transition_table[states[i]]:\n",
    "                states[i] = transition_table[states[i]][cols[i][j]]\n",
    "            else:\n",
    "                transition_table[states[i]][cols[i][j]] = len(transition_table)\n",
    "                words.append(words[states[i]] + [cols[i][j]])\n",
    "                states[i] = len(transition_table)\n",
    "                transition_table.append({})\n",
    "                \n",
    "                \n",
    "    for i, row in enumerate(transition_table):\n",
    "        for letter in letters:\n",
    "            if letter not in row:\n",
    "                suffix = (words[i] + [letter])[1:]\n",
    "                state = 0\n",
    "                \n",
    "                for s in suffix:\n",
    "                    state = transition_table[state].get(s, 0)\n",
    "                    \n",
    "                row[letter] = state\n",
    "                               \n",
    "    return transition_table, states\n"
   ]
  },
  {
   "cell_type": "code",
   "execution_count": null,
   "metadata": {},
   "outputs": [],
   "source": [
    "vertical_automaton(cols, letters)\n"
   ]
  },
  {
   "cell_type": "code",
   "execution_count": null,
   "metadata": {},
   "outputs": [],
   "source": [
    "def horizontal_automaton(pattern, letters):\n",
    "    n = len(pattern)\n",
    "    ret = []\n",
    "    \n",
    "    for state in range(n+ 1):\n",
    "        ret.append({})\n",
    "        for a in letters:\n",
    "            next_state = min(n, state + 1)\n",
    "            \n",
    "            while True:\n",
    "                if pattern[:next_state] == (pattern[:state] + [a])[state - next_state + 1 : state + 1]:\n",
    "                    break\n",
    "                next_state -= 1 \n",
    "\n",
    "            ret[state][a] = next_state\n",
    "            \n",
    "    return ret\n"
   ]
  },
  {
   "cell_type": "code",
   "execution_count": null,
   "metadata": {},
   "outputs": [],
   "source": [
    "horizontal_automaton(pat, letters)"
   ]
  },
  {
   "attachments": {},
   "cell_type": "markdown",
   "metadata": {},
   "source": [
    "Automat 2d"
   ]
  },
  {
   "cell_type": "code",
   "execution_count": null,
   "metadata": {},
   "outputs": [],
   "source": [
    "def get_automatons(pattern):\n",
    "    columns, indexes, letters = get_distinct_columns(pattern)\n",
    "    \n",
    "    vertical_trans_table, vertical_states = vertical_automaton(columns, letters)\n",
    "    \n",
    "    pattern = [vertical_states[indexes[i]] for i in range(len(indexes))]\n",
    "    \n",
    "    horizontal_trans_table = horizontal_automaton(pattern, vertical_states)\n",
    "    horizontal_state = len(horizontal_trans_table) - 1\n",
    "    \n",
    "    return (vertical_trans_table, horizontal_trans_table, horizontal_state)"
   ]
  },
  {
   "cell_type": "code",
   "execution_count": null,
   "metadata": {},
   "outputs": [],
   "source": [
    "def pattern_matching_2d(text, pattern):\n",
    "    \n",
    "    vertical_trans_table, horizontal_trans_table, horizontal_accepting_state = get_automatons(pattern)\n",
    "\n",
    "    ret = []\n",
    "    vertical_states = []\n",
    "    \n",
    "    for i, line in enumerate(text):\n",
    "        \n",
    "        # przycinanie linii\n",
    "        if len(line) < len(vertical_states):\n",
    "            vertical_states = vertical_states[:len(line)]\n",
    "        elif len(vertical_states) < len(line):\n",
    "            vertical_states = vertical_states + [0]*(len(line) - len(vertical_states))\n",
    "            \n",
    "           \n",
    "        horizontal_state = 0\n",
    "        # przejście po linii\n",
    "        for j, letter in enumerate(line):\n",
    "\n",
    "            # Zaktualizowanie stanu automatu pionowego dla danej kolumny\n",
    "            if letter in vertical_trans_table[vertical_states[j]]:\n",
    "                vertical_states[j] = vertical_trans_table[vertical_states[j]][letter]\n",
    "            else:\n",
    "                vertical_states[j] = 0\n",
    "\n",
    "            # Sprawdzenie, czy nowy stan automatów pionowych znajduje się w automacie poziomym\n",
    "            if vertical_states[j] in horizontal_trans_table[horizontal_state]:\n",
    "                horizontal_state = horizontal_trans_table[horizontal_state][vertical_states[j]]\n",
    "        \n",
    "                # Sprawdzenie, czy aktualny stan jest równy wynikowemu\n",
    "                if horizontal_state == horizontal_accepting_state:\n",
    "                    ret.append((i - len(pattern) + 1, j - len(pattern[0]) + 1))\n",
    "                    \n",
    "            else:\n",
    "                horizontal_state = 0\n",
    "\n",
    "    return ret\n"
   ]
  },
  {
   "cell_type": "code",
   "execution_count": null,
   "metadata": {},
   "outputs": [],
   "source": [
    "text = [['x','a','b','a','a'], \n",
    "        ['d','b','a','c','b']]\n",
    "pattern = ['ab','ba']\n",
    "pattern_matching_2d(text, pattern)\n"
   ]
  },
  {
   "attachments": {},
   "cell_type": "markdown",
   "metadata": {},
   "source": [
    "## 2."
   ]
  },
  {
   "cell_type": "code",
   "execution_count": null,
   "metadata": {},
   "outputs": [],
   "source": [
    "def print_res(res, pattern): \n",
    "    print(\"______________________________________________________________\")\n",
    "    print(\"pattern:\\n\", pattern)\n",
    "    print(\"\\nfound on indexes:\\n\", res if len(res) > 0 else \"\\nno patter found\\n\", \"\\n\")\n"
   ]
  },
  {
   "cell_type": "code",
   "execution_count": null,
   "metadata": {},
   "outputs": [],
   "source": [
    "with open('haystack.txt') as file:\n",
    "    text = file.readlines()\n",
    "for i in range(ord('a'), ord('z')+1):\n",
    "    pattern = [chr(i), chr(i)]\n",
    "    res = pattern_matching_2d(text, pattern)\n",
    "    print_res(res, pattern)\n"
   ]
  },
  {
   "attachments": {},
   "cell_type": "markdown",
   "metadata": {},
   "source": [
    "## 3."
   ]
  },
  {
   "cell_type": "code",
   "execution_count": null,
   "metadata": {},
   "outputs": [],
   "source": [
    "pattern = [\"th\",\n",
    "           \"th\"]\n",
    "res = pattern_matching_2d(text, pattern)\n",
    "print_res(res, pattern)"
   ]
  },
  {
   "cell_type": "code",
   "execution_count": null,
   "metadata": {},
   "outputs": [],
   "source": [
    "pattern = [\"t h\",\n",
    "           \"t h\"]\n",
    "res = pattern_matching_2d(text, pattern)\n",
    "print_res(res, pattern)"
   ]
  },
  {
   "attachments": {},
   "cell_type": "markdown",
   "metadata": {},
   "source": [
    "## 4."
   ]
  },
  {
   "cell_type": "code",
   "execution_count": null,
   "metadata": {},
   "outputs": [],
   "source": [
    "from PIL import Image\n",
    "def convert(filename):\n",
    "    image = Image.open(filename)\n",
    "    pixels = list(image.getdata())\n",
    "    width, height = image.size\n",
    "    text = []\n",
    "    i = width\n",
    "    for pixel in pixels:\n",
    "        if i == width:\n",
    "            i = 0\n",
    "            text.append([])\n",
    "        text[-1].append(pixel[0])\n",
    "        i += 1\n",
    "    return text\n"
   ]
  },
  {
   "cell_type": "code",
   "execution_count": null,
   "metadata": {},
   "outputs": [],
   "source": [
    "text = convert('haystack.png')\n",
    "t = convert('t.png')\n",
    "h = convert('h.png')\n",
    "e = convert('e.png')"
   ]
  },
  {
   "attachments": {},
   "cell_type": "markdown",
   "metadata": {},
   "source": [
    "t"
   ]
  },
  {
   "cell_type": "code",
   "execution_count": null,
   "metadata": {},
   "outputs": [],
   "source": [
    "res = pattern_matching_2d(text, t)\n",
    "print(f\"Amount of letters t found is: {len(res)}\")"
   ]
  },
  {
   "attachments": {},
   "cell_type": "markdown",
   "metadata": {},
   "source": [
    "h"
   ]
  },
  {
   "cell_type": "code",
   "execution_count": null,
   "metadata": {},
   "outputs": [],
   "source": [
    "res = pattern_matching_2d(text, h)\n",
    "print(f\"Amount of letters h found is: {len(res)}\")"
   ]
  },
  {
   "attachments": {},
   "cell_type": "markdown",
   "metadata": {},
   "source": [
    "e"
   ]
  },
  {
   "cell_type": "code",
   "execution_count": null,
   "metadata": {},
   "outputs": [],
   "source": [
    "res = pattern_matching_2d(text, e)\n",
    "print(f\"Amount of letters e found is: {len(res)}\")"
   ]
  },
  {
   "attachments": {},
   "cell_type": "markdown",
   "metadata": {},
   "source": [
    "## 5."
   ]
  },
  {
   "attachments": {},
   "cell_type": "markdown",
   "metadata": {},
   "source": [
    "Pattern search"
   ]
  },
  {
   "cell_type": "code",
   "execution_count": null,
   "metadata": {},
   "outputs": [],
   "source": [
    "pattern = convert('pattern.png')\n"
   ]
  },
  {
   "cell_type": "code",
   "execution_count": null,
   "metadata": {},
   "outputs": [],
   "source": [
    "res = pattern_matching_2d(text, pattern)\n",
    "\n",
    "print(f\"Amount of patterns found is: {len(res)}\")"
   ]
  }
 ],
 "metadata": {
  "kernelspec": {
   "display_name": "base",
   "language": "python",
   "name": "python3"
  },
  "language_info": {
   "codemirror_mode": {
    "name": "ipython",
    "version": 3
   },
   "file_extension": ".py",
   "mimetype": "text/x-python",
   "name": "python",
   "nbconvert_exporter": "python",
   "pygments_lexer": "ipython3",
   "version": "3.9.12"
  },
  "orig_nbformat": 4
 },
 "nbformat": 4,
 "nbformat_minor": 2
}
