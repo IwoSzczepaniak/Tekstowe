{
 "cells": [
  {
   "attachments": {},
   "cell_type": "markdown",
   "metadata": {},
   "source": [
    "Zadanie dotyczy wyszukiwania wzorców dwuwymiarowych.\n",
    "\n",
    "1. Zaimplementuj algorytm wyszukiwania wzorca 2-wymiarowego \n",
    "2. Znajdź w załączonym pliku \"haystack.txt\" wszyskie sytuacje, gdy taka sama litera występuje na tej samej pozycji w dwóch kolejnych linijkach. Zwróć uwagę, na nierówną długość linii w pliku. \n",
    "3. Znajdź wszystkie wystąpienia \"th\" oraz \"t h\" w dwóch kolejnych liniach na tej samej pozycji. \n",
    "4. Wybierz przynajmniej 4 litery (małe). Znajdź wszystkie wystąpienia tej litery w załączonym pliku \"haystack.png\" \n",
    "5. Znajdź wszystkie wystąpienia słowa \"p a t t e r n\" w haystack.png. \n",
    "6. Porównaj czas budowania automatu i czas wyszukiwania dla różnych rozmiarów wzorca \n",
    "7. Podziel plik na 2, 4 i 8 fragmentów (w poziomie) i porównaj czas przeszukiwania \n"
   ]
  },
  {
   "attachments": {},
   "cell_type": "markdown",
   "metadata": {},
   "source": [
    "## 1.\n"
   ]
  },
  {
   "attachments": {},
   "cell_type": "markdown",
   "metadata": {},
   "source": [
    "Funkcja zwracająca kolumny wzorca"
   ]
  },
  {
   "cell_type": "code",
   "execution_count": 5,
   "metadata": {},
   "outputs": [],
   "source": [
    "def get_distinct_columns(pattern):\n",
    "    n = len(pattern[0]) # len of rows\n",
    "    m = len(pattern) # len of distinct_columns\n",
    "    \n",
    "    distinct_columns = []\n",
    "    indexes = []\n",
    "    letters = set()\n",
    "    \n",
    "    for j in range(n):\n",
    "        col = []\n",
    "        for i in range(m):\n",
    "            col += [pattern[i][j]]\n",
    "            letters.add(pattern[i][j])\n",
    "            \n",
    "        if col in distinct_columns:\n",
    "            idx = distinct_columns.index(col)\n",
    "            indexes.append(idx)\n",
    "        else:\n",
    "            distinct_columns.append(col)\n",
    "            indexes.append(len(distinct_columns) - 1)\n",
    "            \n",
    "    return distinct_columns, indexes, letters"
   ]
  },
  {
   "cell_type": "code",
   "execution_count": 6,
   "metadata": {},
   "outputs": [
    {
     "name": "stdout",
     "output_type": "stream",
     "text": [
      "[['b', 'a', 'a'], ['c', 'c', 'b']]\n",
      "[0, 1, 0]\n",
      "{'b', 'a', 'c'}\n"
     ]
    }
   ],
   "source": [
    "pat = [['b', 'c', 'b'], ['a', 'c', 'a'], ['a', 'b', 'a']]\n",
    "# pat = [['a','a'], \n",
    "        #    ['b','a']]\n",
    "\n",
    "cols,idx,letters = get_distinct_columns(pat)\n",
    "print(cols)\n",
    "print(idx)\n",
    "print(letters)"
   ]
  },
  {
   "attachments": {},
   "cell_type": "markdown",
   "metadata": {},
   "source": [
    "Pionowy automat"
   ]
  },
  {
   "cell_type": "code",
   "execution_count": 7,
   "metadata": {},
   "outputs": [],
   "source": [
    "def vertical_automaton(cols, letters):\n",
    "    transition_table = [{}]\n",
    "    words = [[]]\n",
    "    states = [0] * len(cols)\n",
    "    \n",
    "    for j in range(len(cols[0])):\n",
    "        for i in range(len(cols)):\n",
    "            if cols[i][j] in transition_table[states[i]]:\n",
    "                states[i] = transition_table[states[i]][cols[i][j]]\n",
    "            else:\n",
    "                transition_table[states[i]][cols[i][j]] = len(transition_table)\n",
    "                words.append(words[states[i]] + [cols[i][j]])\n",
    "                states[i] = len(transition_table)\n",
    "                transition_table.append({})\n",
    "                \n",
    "                \n",
    "    for i, row in enumerate(transition_table):\n",
    "        for letter in letters:\n",
    "            if letter not in row:\n",
    "                suffix = (words[i] + [letter])[1:]\n",
    "                state = 0\n",
    "                \n",
    "                for s in suffix:\n",
    "                    state = transition_table[state].get(s, 0)\n",
    "                    \n",
    "                row[letter] = state\n",
    "                               \n",
    "    return transition_table, states\n"
   ]
  },
  {
   "cell_type": "code",
   "execution_count": 8,
   "metadata": {},
   "outputs": [
    {
     "data": {
      "text/plain": [
       "([{'b': 1, 'c': 2, 'a': 0},\n",
       "  {'a': 3, 'b': 1, 'c': 2},\n",
       "  {'c': 4, 'b': 1, 'a': 0},\n",
       "  {'a': 5, 'b': 1, 'c': 2},\n",
       "  {'b': 6, 'a': 0, 'c': 4},\n",
       "  {'b': 1, 'a': 0, 'c': 2},\n",
       "  {'b': 1, 'a': 3, 'c': 2}],\n",
       " [5, 6])"
      ]
     },
     "execution_count": 8,
     "metadata": {},
     "output_type": "execute_result"
    }
   ],
   "source": [
    "vertical_automaton(cols, letters)\n"
   ]
  },
  {
   "cell_type": "code",
   "execution_count": 9,
   "metadata": {},
   "outputs": [],
   "source": [
    "def horizontal_automaton(pattern, letters):\n",
    "    ret = []\n",
    "    \n",
    "    for state in range(len(pattern) + 1):\n",
    "        ret.append({})\n",
    "        for a in letters:\n",
    "            next_state = min(len(pattern), state + 1)\n",
    "            \n",
    "            while True:\n",
    "                if pattern[:next_state] == (pattern[:state] + [a])[state - next_state + 1 : state + 1]:\n",
    "                    break\n",
    "                next_state -= 1 \n",
    "\n",
    "            ret[state][a] = next_state\n",
    "            \n",
    "    return ret\n"
   ]
  },
  {
   "cell_type": "code",
   "execution_count": 10,
   "metadata": {},
   "outputs": [
    {
     "data": {
      "text/plain": [
       "[{'b': 0, 'a': 0, 'c': 0},\n",
       " {'b': 0, 'a': 0, 'c': 0},\n",
       " {'b': 0, 'a': 0, 'c': 0},\n",
       " {'b': 0, 'a': 0, 'c': 0}]"
      ]
     },
     "execution_count": 10,
     "metadata": {},
     "output_type": "execute_result"
    }
   ],
   "source": [
    "horizontal_automaton(pat, letters)"
   ]
  },
  {
   "attachments": {},
   "cell_type": "markdown",
   "metadata": {},
   "source": [
    "Automat 2d"
   ]
  },
  {
   "cell_type": "code",
   "execution_count": 11,
   "metadata": {},
   "outputs": [],
   "source": [
    "def get_automatons(pattern):\n",
    "    columns, indexes, letters = get_distinct_columns(pattern)\n",
    "    \n",
    "    vertical_trans_table, vertical_states = vertical_automaton(columns, letters)\n",
    "    \n",
    "    pattern = [vertical_states[indexes[i]] for i in range(len(indexes))]\n",
    "    \n",
    "    horizontal_trans_table = horizontal_automaton(pattern, vertical_states)\n",
    "    horizontal_state = len(horizontal_trans_table) - 1\n",
    "    \n",
    "    return (vertical_trans_table, horizontal_trans_table, horizontal_state)"
   ]
  },
  {
   "cell_type": "code",
   "execution_count": 12,
   "metadata": {},
   "outputs": [],
   "source": [
    "def pattern_matching_2d(text, pattern):\n",
    "    \n",
    "    vertical_trans_table, horizontal_trans_table, horizontal_accepting_state = get_automatons(pattern)\n",
    "\n",
    "    ret = []\n",
    "    vertical_states = []\n",
    "    \n",
    "    for i, line in enumerate(text):\n",
    "        \n",
    "        # przycinanie linii\n",
    "        if len(line) < len(vertical_states):\n",
    "            vertical_states = vertical_states[:len(line)]\n",
    "        elif len(vertical_states) < len(line):\n",
    "            vertical_states = vertical_states + [0]*(len(line) - len(vertical_states))\n",
    "            \n",
    "           \n",
    "        horizontal_state = 0\n",
    "        # przejście po linii\n",
    "        for j, letter in enumerate(line):\n",
    "\n",
    "            # Zaktualizowanie stanu automatu pionowego dla danej kolumny\n",
    "            if letter in vertical_trans_table[vertical_states[j]]:\n",
    "                vertical_states[j] = vertical_trans_table[vertical_states[j]][letter]\n",
    "            else:\n",
    "                vertical_states[j] = 0\n",
    "\n",
    "            # Sprawdzenie, czy nowy stan automatów pionowych znajduje się w automacie poziomym\n",
    "            if vertical_states[j] in horizontal_trans_table[horizontal_state]:\n",
    "                horizontal_state = horizontal_trans_table[horizontal_state][vertical_states[j]]\n",
    "        \n",
    "                # Sprawdzenie, czy aktualny stan jest równy wynikowemu\n",
    "                if horizontal_state == horizontal_accepting_state:\n",
    "                    ret.append((i - len(pattern) + 1, j - len(pattern[0]) + 1))\n",
    "                    \n",
    "            else:\n",
    "                horizontal_state = 0\n",
    "\n",
    "    return ret\n"
   ]
  },
  {
   "cell_type": "code",
   "execution_count": 13,
   "metadata": {},
   "outputs": [
    {
     "data": {
      "text/plain": [
       "[(0, 1)]"
      ]
     },
     "execution_count": 13,
     "metadata": {},
     "output_type": "execute_result"
    }
   ],
   "source": [
    "text = [['x','a','b','a','a'], \n",
    "        ['d','b','a','c','b']]\n",
    "pattern = ['ab','ba']\n",
    "pattern_matching_2d(text, pattern)\n"
   ]
  },
  {
   "attachments": {},
   "cell_type": "markdown",
   "metadata": {},
   "source": [
    "## 2."
   ]
  },
  {
   "cell_type": "code",
   "execution_count": 14,
   "metadata": {},
   "outputs": [],
   "source": [
    "def print_res(res, pattern): \n",
    "    print(\"______________________________________________________________\")\n",
    "    print(\"pattern:\\n\", pattern)\n",
    "    print(\"\\nfound on indexes:\\n\", res if len(res) > 0 else \"\\nno patter found\\n\", \"\\n\")\n"
   ]
  },
  {
   "cell_type": "code",
   "execution_count": 15,
   "metadata": {},
   "outputs": [
    {
     "name": "stdout",
     "output_type": "stream",
     "text": [
      "______________________________________________________________\n",
      "pattern:\n",
      " ['a', 'a']\n",
      "\n",
      "found on indexes:\n",
      " [(0, 82), (3, 30), (5, 60), (6, 63), (20, 6), (28, 69), (31, 50), (31, 73), (33, 66), (37, 4), (52, 12), (53, 12), (53, 48), (56, 11), (57, 36), (58, 36), (59, 24), (64, 2), (64, 14), (64, 22), (65, 35), (69, 35), (76, 21), (76, 74), (77, 42), (77, 61), (78, 59), (79, 37)] \n",
      "\n",
      "______________________________________________________________\n",
      "pattern:\n",
      " ['b', 'b']\n",
      "\n",
      "found on indexes:\n",
      " \n",
      "no patter found\n",
      " \n",
      "\n",
      "______________________________________________________________\n",
      "pattern:\n",
      " ['c', 'c']\n",
      "\n",
      "found on indexes:\n",
      " [(3, 54), (10, 45), (13, 10), (41, 0), (68, 0), (82, 41)] \n",
      "\n",
      "______________________________________________________________\n",
      "pattern:\n",
      " ['d', 'd']\n",
      "\n",
      "found on indexes:\n",
      " [(37, 19)] \n",
      "\n",
      "______________________________________________________________\n",
      "pattern:\n",
      " ['e', 'e']\n",
      "\n",
      "found on indexes:\n",
      " [(0, 63), (1, 8), (4, 77), (7, 65), (10, 1), (10, 64), (14, 2), (15, 43), (17, 6), (18, 27), (20, 10), (21, 61), (22, 53), (24, 3), (24, 65), (28, 67), (28, 73), (29, 38), (29, 43), (37, 48), (40, 11), (40, 26), (41, 57), (42, 36), (42, 48), (46, 52), (47, 50), (51, 31), (57, 54), (58, 50), (58, 54), (59, 73), (63, 66), (65, 69), (66, 72), (67, 17), (68, 46), (69, 15), (70, 49), (71, 38), (72, 23), (73, 27), (76, 6), (77, 6), (78, 65), (80, 6), (81, 14), (82, 47)] \n",
      "\n",
      "______________________________________________________________\n",
      "pattern:\n",
      " ['f', 'f']\n",
      "\n",
      "found on indexes:\n",
      " [(30, 59), (77, 1)] \n",
      "\n",
      "______________________________________________________________\n",
      "pattern:\n",
      " ['g', 'g']\n",
      "\n",
      "found on indexes:\n",
      " \n",
      "no patter found\n",
      " \n",
      "\n",
      "______________________________________________________________\n",
      "pattern:\n",
      " ['h', 'h']\n",
      "\n",
      "found on indexes:\n",
      " [(27, 2), (37, 2), (56, 31), (73, 12)] \n",
      "\n",
      "______________________________________________________________\n",
      "pattern:\n",
      " ['i', 'i']\n",
      "\n",
      "found on indexes:\n",
      " [(1, 5), (8, 37), (9, 60), (19, 55), (31, 0), (31, 31), (44, 33), (52, 69), (55, 17), (60, 45), (68, 51), (73, 13), (77, 13)] \n",
      "\n",
      "______________________________________________________________\n",
      "pattern:\n",
      " ['j', 'j']\n",
      "\n",
      "found on indexes:\n",
      " \n",
      "no patter found\n",
      " \n",
      "\n",
      "______________________________________________________________\n",
      "pattern:\n",
      " ['k', 'k']\n",
      "\n",
      "found on indexes:\n",
      " \n",
      "no patter found\n",
      " \n",
      "\n",
      "______________________________________________________________\n",
      "pattern:\n",
      " ['l', 'l']\n",
      "\n",
      "found on indexes:\n",
      " [(28, 72), (33, 45), (41, 77), (46, 61), (53, 45)] \n",
      "\n",
      "______________________________________________________________\n",
      "pattern:\n",
      " ['m', 'm']\n",
      "\n",
      "found on indexes:\n",
      " [(16, 5), (28, 70), (34, 40), (34, 60), (44, 0)] \n",
      "\n",
      "______________________________________________________________\n",
      "pattern:\n",
      " ['n', 'n']\n",
      "\n",
      "found on indexes:\n",
      " [(0, 83), (1, 9), (14, 54), (19, 37), (20, 56), (21, 62), (31, 1), (35, 18), (51, 32), (54, 33), (56, 13), (64, 29), (67, 35), (67, 40), (67, 57)] \n",
      "\n",
      "______________________________________________________________\n",
      "pattern:\n",
      " ['o', 'o']\n",
      "\n",
      "found on indexes:\n",
      " [(4, 75), (5, 66), (6, 38), (7, 38), (10, 27), (15, 60), (27, 17), (28, 17), (30, 58), (32, 34), (33, 11), (33, 26), (41, 1), (44, 55), (50, 2), (52, 8), (53, 1), (58, 45), (71, 42), (79, 10), (81, 52)] \n",
      "\n",
      "______________________________________________________________\n",
      "pattern:\n",
      " ['p', 'p']\n",
      "\n",
      "found on indexes:\n",
      " [(28, 71), (41, 18)] \n",
      "\n",
      "______________________________________________________________\n",
      "pattern:\n",
      " ['q', 'q']\n",
      "\n",
      "found on indexes:\n",
      " \n",
      "no patter found\n",
      " \n",
      "\n",
      "______________________________________________________________\n",
      "pattern:\n",
      " ['r', 'r']\n",
      "\n",
      "found on indexes:\n",
      " [(1, 4), (6, 39), (6, 50), (7, 13), (15, 18), (17, 14), (19, 54), (20, 54), (28, 65), (31, 70), (33, 10), (33, 37), (43, 25), (46, 42), (47, 37), (52, 5), (55, 40), (60, 30), (62, 39), (67, 29), (69, 22)] \n",
      "\n",
      "______________________________________________________________\n",
      "pattern:\n",
      " ['s', 's']\n",
      "\n",
      "found on indexes:\n",
      " [(3, 57), (3, 63), (4, 49), (8, 21), (9, 58), (28, 45), (29, 56), (30, 56), (37, 34), (40, 63), (45, 34), (46, 44), (49, 14), (52, 53), (54, 0), (67, 37), (70, 41), (71, 24), (79, 24)] \n",
      "\n",
      "______________________________________________________________\n",
      "pattern:\n",
      " ['t', 't']\n",
      "\n",
      "found on indexes:\n",
      " [(0, 7), (1, 6), (1, 7), (3, 37), (4, 14), (4, 23), (7, 29), (8, 75), (13, 55), (15, 12), (16, 3), (19, 33), (22, 8), (23, 4), (24, 4), (27, 31), (28, 23), (28, 52), (30, 16), (35, 10), (37, 0), (41, 45), (41, 73), (46, 24), (50, 0), (51, 33), (52, 61), (54, 11), (55, 54), (58, 49), (58, 78), (59, 33), (59, 75), (61, 56), (67, 71), (69, 5), (71, 3), (72, 3), (72, 10), (72, 59), (77, 22)] \n",
      "\n",
      "______________________________________________________________\n",
      "pattern:\n",
      " ['u', 'u']\n",
      "\n",
      "found on indexes:\n",
      " \n",
      "no patter found\n",
      " \n",
      "\n",
      "______________________________________________________________\n",
      "pattern:\n",
      " ['v', 'v']\n",
      "\n",
      "found on indexes:\n",
      " \n",
      "no patter found\n",
      " \n",
      "\n",
      "______________________________________________________________\n",
      "pattern:\n",
      " ['w', 'w']\n",
      "\n",
      "found on indexes:\n",
      " [(1, 3), (21, 70)] \n",
      "\n",
      "______________________________________________________________\n",
      "pattern:\n",
      " ['x', 'x']\n",
      "\n",
      "found on indexes:\n",
      " [(28, 68)] \n",
      "\n",
      "______________________________________________________________\n",
      "pattern:\n",
      " ['y', 'y']\n",
      "\n",
      "found on indexes:\n",
      " [(44, 5)] \n",
      "\n",
      "______________________________________________________________\n",
      "pattern:\n",
      " ['z', 'z']\n",
      "\n",
      "found on indexes:\n",
      " \n",
      "no patter found\n",
      " \n",
      "\n"
     ]
    }
   ],
   "source": [
    "with open('haystack.txt') as file:\n",
    "    text = file.readlines()\n",
    "for i in range(ord('a'), ord('z')+1):\n",
    "    pattern = [chr(i), chr(i)]\n",
    "    res = pattern_matching_2d(text, pattern)\n",
    "    print_res(res, pattern)\n"
   ]
  },
  {
   "attachments": {},
   "cell_type": "markdown",
   "metadata": {},
   "source": [
    "## 3."
   ]
  },
  {
   "cell_type": "code",
   "execution_count": 16,
   "metadata": {},
   "outputs": [
    {
     "name": "stdout",
     "output_type": "stream",
     "text": [
      "______________________________________________________________\n",
      "pattern:\n",
      " ['th', 'th']\n",
      "\n",
      "found on indexes:\n",
      " \n",
      "no patter found\n",
      " \n",
      "\n"
     ]
    }
   ],
   "source": [
    "pattern = [\"th\",\n",
    "           \"th\"]\n",
    "res = pattern_matching_2d(text, pattern)\n",
    "print_res(res, pattern)"
   ]
  },
  {
   "cell_type": "code",
   "execution_count": 17,
   "metadata": {},
   "outputs": [
    {
     "name": "stdout",
     "output_type": "stream",
     "text": [
      "______________________________________________________________\n",
      "pattern:\n",
      " ['t h', 't h']\n",
      "\n",
      "found on indexes:\n",
      " [(37, 0)] \n",
      "\n"
     ]
    }
   ],
   "source": [
    "pattern = [\"t h\",\n",
    "           \"t h\"]\n",
    "res = pattern_matching_2d(text, pattern)\n",
    "print_res(res, pattern)"
   ]
  },
  {
   "attachments": {},
   "cell_type": "markdown",
   "metadata": {},
   "source": [
    "## 4."
   ]
  },
  {
   "cell_type": "code",
   "execution_count": 18,
   "metadata": {},
   "outputs": [],
   "source": [
    "from PIL import Image\n",
    "def convert(filename):\n",
    "    image = Image.open(filename)\n",
    "    pixels = list(image.getdata())\n",
    "    width, height = image.size\n",
    "    text = []\n",
    "    i = width\n",
    "    for pixel in pixels:\n",
    "        if i == width:\n",
    "            i = 0\n",
    "            text.append([])\n",
    "        text[-1].append(pixel[0])\n",
    "        i += 1\n",
    "    return text\n"
   ]
  },
  {
   "cell_type": "code",
   "execution_count": 19,
   "metadata": {},
   "outputs": [],
   "source": [
    "text = convert('haystack.png')\n",
    "t = convert('t.png')\n",
    "h = convert('h.png')\n",
    "e = convert('e.png')"
   ]
  },
  {
   "attachments": {},
   "cell_type": "markdown",
   "metadata": {},
   "source": [
    "t"
   ]
  },
  {
   "cell_type": "code",
   "execution_count": 20,
   "metadata": {},
   "outputs": [
    {
     "name": "stdout",
     "output_type": "stream",
     "text": [
      "Amount of letters t found is: 95\n"
     ]
    }
   ],
   "source": [
    "res = pattern_matching_2d(text, t)\n",
    "print(f\"Amount of letters t found is: {len(res)}\")"
   ]
  },
  {
   "attachments": {},
   "cell_type": "markdown",
   "metadata": {},
   "source": [
    "h"
   ]
  },
  {
   "cell_type": "code",
   "execution_count": 21,
   "metadata": {},
   "outputs": [
    {
     "name": "stdout",
     "output_type": "stream",
     "text": [
      "Amount of letters h found is: 179\n"
     ]
    }
   ],
   "source": [
    "res = pattern_matching_2d(text, h)\n",
    "print(f\"Amount of letters h found is: {len(res)}\")"
   ]
  },
  {
   "attachments": {},
   "cell_type": "markdown",
   "metadata": {},
   "source": [
    "e"
   ]
  },
  {
   "cell_type": "code",
   "execution_count": 22,
   "metadata": {},
   "outputs": [
    {
     "name": "stdout",
     "output_type": "stream",
     "text": [
      "Amount of letters e found is: 228\n"
     ]
    }
   ],
   "source": [
    "res = pattern_matching_2d(text, e)\n",
    "print(f\"Amount of letters e found is: {len(res)}\")"
   ]
  },
  {
   "attachments": {},
   "cell_type": "markdown",
   "metadata": {},
   "source": [
    "## 5."
   ]
  },
  {
   "attachments": {},
   "cell_type": "markdown",
   "metadata": {},
   "source": [
    "Pattern search"
   ]
  },
  {
   "cell_type": "code",
   "execution_count": 23,
   "metadata": {},
   "outputs": [],
   "source": [
    "pattern = convert('pattern.png')\n"
   ]
  },
  {
   "cell_type": "code",
   "execution_count": 24,
   "metadata": {},
   "outputs": [
    {
     "name": "stdout",
     "output_type": "stream",
     "text": [
      "Amount of patterns found is: 5\n"
     ]
    }
   ],
   "source": [
    "res = pattern_matching_2d(text, pattern)\n",
    "\n",
    "print(f\"Amount of patterns found is: {len(res)}\")"
   ]
  }
 ],
 "metadata": {
  "kernelspec": {
   "display_name": "base",
   "language": "python",
   "name": "python3"
  },
  "language_info": {
   "codemirror_mode": {
    "name": "ipython",
    "version": 3
   },
   "file_extension": ".py",
   "mimetype": "text/x-python",
   "name": "python",
   "nbconvert_exporter": "python",
   "pygments_lexer": "ipython3",
   "version": "3.9.12"
  },
  "orig_nbformat": 4
 },
 "nbformat": 4,
 "nbformat_minor": 2
}
