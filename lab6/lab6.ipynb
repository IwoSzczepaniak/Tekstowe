{
 "cells": [
  {
   "attachments": {},
   "cell_type": "markdown",
   "metadata": {},
   "source": [
    "## Przyjmij następujący zbiór danych wejściowych:\n",
    "- bbb$\n",
    "- aabbabd\n",
    "- ababcd\n",
    "- abaababaabaabaabab$\n",
    "- losowy tekst o długości 100 znaków,\n",
    "- załączony plik."
   ]
  },
  {
   "cell_type": "code",
   "execution_count": 18,
   "metadata": {},
   "outputs": [],
   "source": [
    "from string import ascii_lowercase\n",
    "from random import choice\n",
    "\n",
    "t1 = \"bbb$\"\n",
    "t2 = \"aabbabd\"\n",
    "t3 = \"ababcd\"\n",
    "t4 = \"abaababaabaabaabab$\"\n",
    "\n",
    "n = 100\n",
    "t5 = ''.join(choice(ascii_lowercase) for _ in range(n))\n",
    "\n",
    "with open(\"1997_714_head.txt\", \"r\") as f:\n",
    "    t6 = f.read()\n",
    "\n",
    "Keys = [t1, t2, t3, t4]\n",
    "Texts = [t1, t2, t3, t4, t5, t6]\n",
    "\n"
   ]
  },
  {
   "cell_type": "code",
   "execution_count": 19,
   "metadata": {},
   "outputs": [],
   "source": [
    "from string import punctuation\n",
    "\n",
    "def check_marker(text):\n",
    "    last_letter = text[-1]\n",
    "    if last_letter in text[:-1]:\n",
    "        return False\n",
    "    return True\n",
    "\n",
    "def get_marker(text):\n",
    "    for letter in punctuation:\n",
    "        if letter not in text:\n",
    "            return letter\n",
    "        \n",
    "    return None\n",
    "\n",
    "def add_marker(text):\n",
    "    END_MARKER = get_marker(text)\n",
    "    if END_MARKER == None:\n",
    "        print(\"Brak unikalego znaku dla markera\")\n",
    "    else:\n",
    "        print(\"Nowy marker to: \", END_MARKER)\n",
    "        text += END_MARKER\n",
    "    return text\n"
   ]
  },
  {
   "attachments": {},
   "cell_type": "markdown",
   "metadata": {},
   "source": [
    "Upewnij się, że każdy łańcuch na końcu posiada unikalny znak (marker), a jeśli go nie ma, to dodaj ten znak.\n"
   ]
  },
  {
   "cell_type": "code",
   "execution_count": 20,
   "metadata": {},
   "outputs": [
    {
     "name": "stdout",
     "output_type": "stream",
     "text": [
      "Brak markera w: vbjllpcntcwavngazyjhwjrwlkcdgylagojyfzedupwyqncokulsbeoggwekllxdphmoeirbzlpynaymdimmzeffnzhzfjhsoydk\n",
      "Nowy marker to:  !\n",
      "Nowa wersja to: vbjllpcntcwavngazyjhwjrwlkcdgylagojyfzedupwyqncokulsbeoggwekllxdphmoeirbzlpynaymdimmzeffnzhzfjhsoydk!\n",
      "Brak markera w: \n",
      "\n",
      "\n",
      "\n",
      "Dz.U. z 1998 r. Nr 144, poz. 930\n",
      "                                       \n",
      "                                       \n",
      "                                       \n",
      "                                       \n",
      "                                    USTAWA\n",
      "                          z dnia 20 listopada 1998 r.\n",
      "                                       \n",
      "         o zryczałtowanym podatku dochodowym od niektórych przychodów\n",
      "                        osiąganych przez osoby fizyczne\n",
      "                                       \n",
      "                                  Rozdział 1\n",
      "                                Przepisy ogólne\n",
      "                                       \n",
      "                                    Art. 1.\n",
      "Ustawa reguluje opodatkowanie zryczałtowanym podatkiem dochodowym niektórych\n",
      "przychodów (dochodów) osiąganych przez osoby fizyczne prowadzące pozarolniczą\n",
      "działalność gospodarczą oraz przez osoby duchowne.\n",
      "                                       \n",
      "                                    Art. 2.\n",
      "1. Osoby fizyczne osiągające przychody z pozarolniczej działalności\n",
      "  gospodarczej opłacają zryczałtowany podatek dochodowy w formie:\n",
      "   1) ryczałtu od przychodów ewidencjonowanych,\n",
      "   2) karty podatkowej.\n",
      "2. Osoby duchowne, prawnie uznanych wyznań, opłacają zryczałtowany podatek\n",
      "  dochodowy od przychodów osób duchownych.\n",
      "3. Wpływy z podatku dochodowego opłacanego w formie ryczałtu od przychodów\n",
      "  ewidencjonowanych oraz zryczałtowanego podatku dochodowego od przychodów\n",
      "  osób duchownych stanowią dochód budżetu państwa.\n",
      "4. Wpływy z karty podatkowej stanowią dochody gmin.\n",
      "                                       \n",
      "                                    Art. 3.\n",
      "Przychodów (dochodów) opodatkowanych w formach zryczałtowanych nie łączy się z\n",
      "przychodami (dochodami) z innych źródeł podlegającymi opodatkowaniu na\n",
      "podstawie ustawy z dnia 26 lipca 1991 r. o podatku dochodowym od osób\n",
      "fizycznych (Dz. U. z 1993 r. Nr 90, poz. 416 i Nr 134, poz. 646, z 1994 r. Nr\n",
      "43, poz. 163, Nr 90, poz. 419, Nr 113, poz. 547, Nr 123, poz. 602 i Nr 126,\n",
      "poz. 626, z 1995 r. Nr 5, poz. 25 i Nr 133, poz. 654, z 1996 r. Nr 25, poz.\n",
      "113, Nr 87, poz. 395, Nr 137, poz. 638, Nr 147, poz. 686 i Nr 156, poz. 776, z\n",
      "1997 r. Nr 28, poz. 153, Nr 30, poz. 164, Nr 71, poz. 449, Nr 85, poz. 538, Nr\n",
      "96, poz. 592, Nr 121, poz. 770, Nr 123, poz. 776, Nr 137, poz. 926, Nr 139,\n",
      "poz. 932-934 i Nr 141, poz. 943 i 945 oraz z 1998 r. Nr 66, poz. 430, Nr 74,\n",
      "poz. 471, Nr 108, poz. 685 i Nr 117, poz. 756), zwanej dalej \"ustawą o podatku\n",
      "dochodowym\".\n",
      "\n",
      "Nowy marker to:  !\n",
      "Nowa wersja to: \n",
      "\n",
      "\n",
      "\n",
      "Dz.U. z 1998 r. Nr 144, poz. 930\n",
      "                                       \n",
      "                                       \n",
      "                                       \n",
      "                                       \n",
      "                                    USTAWA\n",
      "                          z dnia 20 listopada 1998 r.\n",
      "                                       \n",
      "         o zryczałtowanym podatku dochodowym od niektórych przychodów\n",
      "                        osiąganych przez osoby fizyczne\n",
      "                                       \n",
      "                                  Rozdział 1\n",
      "                                Przepisy ogólne\n",
      "                                       \n",
      "                                    Art. 1.\n",
      "Ustawa reguluje opodatkowanie zryczałtowanym podatkiem dochodowym niektórych\n",
      "przychodów (dochodów) osiąganych przez osoby fizyczne prowadzące pozarolniczą\n",
      "działalność gospodarczą oraz przez osoby duchowne.\n",
      "                                       \n",
      "                                    Art. 2.\n",
      "1. Osoby fizyczne osiągające przychody z pozarolniczej działalności\n",
      "  gospodarczej opłacają zryczałtowany podatek dochodowy w formie:\n",
      "   1) ryczałtu od przychodów ewidencjonowanych,\n",
      "   2) karty podatkowej.\n",
      "2. Osoby duchowne, prawnie uznanych wyznań, opłacają zryczałtowany podatek\n",
      "  dochodowy od przychodów osób duchownych.\n",
      "3. Wpływy z podatku dochodowego opłacanego w formie ryczałtu od przychodów\n",
      "  ewidencjonowanych oraz zryczałtowanego podatku dochodowego od przychodów\n",
      "  osób duchownych stanowią dochód budżetu państwa.\n",
      "4. Wpływy z karty podatkowej stanowią dochody gmin.\n",
      "                                       \n",
      "                                    Art. 3.\n",
      "Przychodów (dochodów) opodatkowanych w formach zryczałtowanych nie łączy się z\n",
      "przychodami (dochodami) z innych źródeł podlegającymi opodatkowaniu na\n",
      "podstawie ustawy z dnia 26 lipca 1991 r. o podatku dochodowym od osób\n",
      "fizycznych (Dz. U. z 1993 r. Nr 90, poz. 416 i Nr 134, poz. 646, z 1994 r. Nr\n",
      "43, poz. 163, Nr 90, poz. 419, Nr 113, poz. 547, Nr 123, poz. 602 i Nr 126,\n",
      "poz. 626, z 1995 r. Nr 5, poz. 25 i Nr 133, poz. 654, z 1996 r. Nr 25, poz.\n",
      "113, Nr 87, poz. 395, Nr 137, poz. 638, Nr 147, poz. 686 i Nr 156, poz. 776, z\n",
      "1997 r. Nr 28, poz. 153, Nr 30, poz. 164, Nr 71, poz. 449, Nr 85, poz. 538, Nr\n",
      "96, poz. 592, Nr 121, poz. 770, Nr 123, poz. 776, Nr 137, poz. 926, Nr 139,\n",
      "poz. 932-934 i Nr 141, poz. 943 i 945 oraz z 1998 r. Nr 66, poz. 430, Nr 74,\n",
      "poz. 471, Nr 108, poz. 685 i Nr 117, poz. 756), zwanej dalej \"ustawą o podatku\n",
      "dochodowym\".\n",
      "!\n"
     ]
    }
   ],
   "source": [
    "for i in range(len(Texts)):\n",
    "    if check_marker(Texts[i]) is False:\n",
    "        print(f\"Brak markera w: {Texts[i]}\")\n",
    "        Texts[i] = add_marker(Texts[i])\n",
    "        print(f\"Nowa wersja to: {Texts[i]}\")"
   ]
  },
  {
   "attachments": {},
   "cell_type": "markdown",
   "metadata": {},
   "source": [
    "## Definicja klasy Trie(Top Down Trie)"
   ]
  },
  {
   "cell_type": "code",
   "execution_count": 21,
   "metadata": {},
   "outputs": [],
   "source": [
    "class TrieNode:\n",
    "    def __init__(self):\n",
    "        self.children = {}\n",
    "        self.is_end_of_word = False\n",
    "\n",
    "\n",
    "class Trie:\n",
    "    def __init__(self):\n",
    "        self.root = TrieNode()\n",
    "\n",
    "    def insert(self, pattern):\n",
    "        node = self.root\n",
    "        for char in pattern:\n",
    "            if char not in node.children:\n",
    "                node.children[char] = TrieNode()\n",
    "            node = node.children[char]\n",
    "        node.is_end_of_word = True\n",
    "\n",
    "    def search(self, text):\n",
    "        results = []\n",
    "        for i in range(len(text)):\n",
    "            node = self.root\n",
    "            j = i\n",
    "            while j < len(text) and text[j] in node.children:\n",
    "                node = node.children[text[j]]\n",
    "                j += 1\n",
    "                if node.is_end_of_word:\n",
    "                    results.append(i)\n",
    "        return results\n",
    "    \n",
    "    def print_suffixes(self, node=None, suffix=\"\"):\n",
    "        if node is None:\n",
    "            node = self.root\n",
    "\n",
    "        if suffix != '':\n",
    "            print(suffix)\n",
    "\n",
    "        for char, child in node.children.items():\n",
    "            self.print_suffixes(child, suffix + char)\n",
    "\n"
   ]
  },
  {
   "cell_type": "code",
   "execution_count": 22,
   "metadata": {},
   "outputs": [],
   "source": [
    "def print_indexes(matches, pattern):\n",
    "    if matches:\n",
    "        print(f\"Znaleziono dopasowania w liczbie: {len(matches)} dla {pattern} na indeksach: {matches}\")\n",
    "    else:\n",
    "        print(\"Nie znaleziono dopasowań wzorca.\")"
   ]
  },
  {
   "cell_type": "code",
   "execution_count": 23,
   "metadata": {},
   "outputs": [],
   "source": [
    "def trie_searches(text, patterns):\n",
    "    trie = Trie()\n",
    "    for pattern in patterns: \n",
    "        trie.insert(pattern)\n",
    "\n",
    "    matches = trie.search(text)\n",
    "    print_indexes(matches, patterns)\n",
    "    trie.print_suffixes()\n",
    "\n",
    "\n",
    "def trie_search(text, pattern):\n",
    "    trie = Trie()\n",
    "    trie.insert(pattern)\n",
    "\n",
    "    matches = trie.search(text)\n",
    "    print_indexes(matches, pattern)\n",
    "    trie.print_suffixes()"
   ]
  },
  {
   "attachments": {},
   "cell_type": "markdown",
   "metadata": {},
   "source": [
    "### Random"
   ]
  },
  {
   "cell_type": "code",
   "execution_count": 24,
   "metadata": {},
   "outputs": [
    {
     "name": "stdout",
     "output_type": "stream",
     "text": [
      "vbjllpcntcwavngazyjhwjrwlkcdgylagojyfzedupwyqncokulsbeoggwekllxdphmoeirbzlpynaymdimmzeffnzhzfjhsoydk!\n",
      "Nie znaleziono dopasowań wzorca.\n",
      "b\n",
      "bb\n",
      "bbb\n",
      "bbb$\n",
      "a\n",
      "aa\n",
      "aab\n",
      "aabb\n",
      "aabba\n",
      "aabbab\n",
      "aabbabd\n",
      "ab\n",
      "aba\n",
      "abab\n",
      "ababc\n",
      "ababcd\n",
      "abaa\n",
      "abaab\n",
      "abaaba\n",
      "abaabab\n",
      "abaababa\n",
      "abaababaa\n",
      "abaababaab\n",
      "abaababaaba\n",
      "abaababaabaa\n",
      "abaababaabaab\n",
      "abaababaabaaba\n",
      "abaababaabaabaa\n",
      "abaababaabaabaab\n",
      "abaababaabaabaaba\n",
      "abaababaabaabaabab\n",
      "abaababaabaabaabab$\n"
     ]
    }
   ],
   "source": [
    "text = Texts[4]\n",
    "patterns = [t1, t2, t3, t4]\n",
    "\n",
    "print(text)\n",
    "\n",
    "trie_searches(text, patterns)"
   ]
  },
  {
   "attachments": {},
   "cell_type": "markdown",
   "metadata": {},
   "source": [
    "### 1997_714_head"
   ]
  },
  {
   "cell_type": "code",
   "execution_count": 25,
   "metadata": {},
   "outputs": [
    {
     "name": "stdout",
     "output_type": "stream",
     "text": [
      "Znaleziono dopasowania w liczbie: 8 dla przych na indeksach: [393, 754, 996, 1119, 1263, 1355, 1430, 1707]\n",
      "p\n",
      "pr\n",
      "prz\n",
      "przy\n",
      "przyc\n",
      "przych\n"
     ]
    }
   ],
   "source": [
    "text = t6\n",
    "pattern = \"przych\"\n",
    "\n",
    "trie_search(text, pattern)"
   ]
  },
  {
   "cell_type": "code",
   "execution_count": 26,
   "metadata": {},
   "outputs": [
    {
     "name": "stdout",
     "output_type": "stream",
     "text": [
      "Znaleziono dopasowania w liczbie: 11 dla ['przych', 'przez'] na indeksach: [393, 439, 754, 787, 861, 996, 1119, 1263, 1355, 1430, 1707]\n",
      "p\n",
      "pr\n",
      "prz\n",
      "przy\n",
      "przyc\n",
      "przych\n",
      "prze\n",
      "przez\n"
     ]
    }
   ],
   "source": [
    "text = t6\n",
    "patterns = [\"przych\", \"przez\"]\n",
    "\n",
    "trie_searches(text, patterns)"
   ]
  },
  {
   "attachments": {},
   "cell_type": "markdown",
   "metadata": {},
   "source": [
    "## Definicja klasy next letter trie"
   ]
  },
  {
   "cell_type": "code",
   "execution_count": 27,
   "metadata": {},
   "outputs": [],
   "source": [
    "class NextLetterTrieNode:\n",
    "    def __init__(self):\n",
    "        self.children = [None] * 1114112  # Tablica dzieci dla kodów Unicode\n",
    "        self.is_end_of_word = False\n",
    "\n",
    "\n",
    "class NextLetterTrie:\n",
    "    def __init__(self):\n",
    "        self.root = NextLetterTrieNode()\n",
    "\n",
    "    def insert(self, pattern):\n",
    "        node = self.root\n",
    "        for char in pattern:\n",
    "            index = ord(char)\n",
    "            if not node.children[index]:\n",
    "                node.children[index] = NextLetterTrieNode()\n",
    "            node = node.children[index]\n",
    "        node.is_end_of_word = True\n",
    "\n",
    "    def search(self, text):\n",
    "        results = []\n",
    "        for i in range(len(text)):\n",
    "            node = self.root\n",
    "            j = i\n",
    "            while j < len(text) and node.children[ord(text[j])]:\n",
    "                node = node.children[ord(text[j])]\n",
    "                j += 1\n",
    "                if node.is_end_of_word:\n",
    "                    results.append(i)\n",
    "        return results\n",
    "\n",
    "    def print_suffixes(self, node=None, suffix=\"\"):\n",
    "        if node is None:\n",
    "            node = self.root\n",
    "\n",
    "        if suffix != '':\n",
    "            print(suffix)\n",
    "\n",
    "        for i, child in enumerate(node.children):\n",
    "            if child:\n",
    "                char = chr(i)\n",
    "                self.print_suffixes(child, suffix + char)\n"
   ]
  },
  {
   "cell_type": "code",
   "execution_count": 28,
   "metadata": {},
   "outputs": [],
   "source": [
    "def NL_trie_searches(text, patterns):\n",
    "    trie = NextLetterTrie()\n",
    "    for pattern in patterns: \n",
    "        trie.insert(pattern)\n",
    "\n",
    "    matches = trie.search(text)\n",
    "    print_indexes(matches, patterns)\n",
    "    trie.print_suffixes()\n",
    "\n",
    "\n",
    "def NL_trie_search(text, pattern):\n",
    "    trie = NextLetterTrie()\n",
    "    trie.insert(pattern)\n",
    "\n",
    "    matches = trie.search(text)\n",
    "    print_indexes(matches, pattern)\n",
    "    trie.print_suffixes()"
   ]
  },
  {
   "attachments": {},
   "cell_type": "markdown",
   "metadata": {},
   "source": [
    "### Random"
   ]
  },
  {
   "cell_type": "code",
   "execution_count": 29,
   "metadata": {},
   "outputs": [
    {
     "name": "stdout",
     "output_type": "stream",
     "text": [
      "vbjllpcntcwavngazyjhwjrwlkcdgylagojyfzedupwyqncokulsbeoggwekllxdphmoeirbzlpynaymdimmzeffnzhzfjhsoydk!\n",
      "Nie znaleziono dopasowań wzorca.\n",
      "a\n",
      "aa\n",
      "aab\n",
      "aabb\n",
      "aabba\n",
      "aabbab\n",
      "aabbabd\n"
     ]
    },
    {
     "name": "stdout",
     "output_type": "stream",
     "text": [
      "ab\n",
      "aba\n",
      "abaa\n",
      "abaab\n",
      "abaaba\n",
      "abaabab\n",
      "abaababa\n",
      "abaababaa\n",
      "abaababaab\n",
      "abaababaaba\n",
      "abaababaabaa\n",
      "abaababaabaab\n",
      "abaababaabaaba\n",
      "abaababaabaabaa\n",
      "abaababaabaabaab\n",
      "abaababaabaabaaba\n",
      "abaababaabaabaabab\n",
      "abaababaabaabaabab$\n",
      "abab\n",
      "ababc\n",
      "ababcd\n",
      "b\n",
      "bb\n",
      "bbb\n",
      "bbb$\n"
     ]
    }
   ],
   "source": [
    "text = Texts[4]\n",
    "patterns = [t1, t2, t3, t4]\n",
    "\n",
    "print(text)\n",
    "\n",
    "NL_trie_searches(text, patterns)"
   ]
  },
  {
   "attachments": {},
   "cell_type": "markdown",
   "metadata": {},
   "source": [
    "### 1997_714_head"
   ]
  },
  {
   "cell_type": "code",
   "execution_count": 30,
   "metadata": {},
   "outputs": [
    {
     "name": "stdout",
     "output_type": "stream",
     "text": [
      "Znaleziono dopasowania w liczbie: 11 dla ['przych', 'przez'] na indeksach: [393, 439, 754, 787, 861, 996, 1119, 1263, 1355, 1430, 1707]\n",
      "p\n",
      "pr\n",
      "prz\n",
      "prze\n",
      "przez\n",
      "przy\n",
      "przyc\n",
      "przych\n"
     ]
    }
   ],
   "source": [
    "text = t6\n",
    "patterns = [\"przych\", \"przez\"]\n",
    "\n",
    "NL_trie_searches(text, patterns)"
   ]
  },
  {
   "attachments": {},
   "cell_type": "markdown",
   "metadata": {},
   "source": [
    "## Upewnij się, że powstałe struktury danych są poprawne"
   ]
  },
  {
   "cell_type": "code",
   "execution_count": 31,
   "metadata": {},
   "outputs": [],
   "source": [
    "def compare_tries(patterns, text):\n",
    "    print(\"Dla wzorca:\", patterns)\n",
    "    trie = Trie()\n",
    "    NL_trie = NextLetterTrie()\n",
    "    for pattern in patterns: \n",
    "        NL_trie.insert(pattern)\n",
    "        trie.insert(pattern)\n",
    "    matches = trie.search(text)\n",
    "    NL_matches = NL_trie.search(text)\n",
    "    print_indexes(matches, patterns)\n",
    "    print_indexes(NL_matches, patterns)"
   ]
  },
  {
   "cell_type": "code",
   "execution_count": 32,
   "metadata": {},
   "outputs": [
    {
     "name": "stdout",
     "output_type": "stream",
     "text": [
      "W tekście: \n",
      " vbjllpcntcwavngazyjhwjrwlkcdgylagojyfzedupwyqncokulsbeoggwekllxdphmoeirbzlpynaymdimmzeffnzhzfjhsoydk!\n",
      "W TEKŚCIE\n",
      "Dla wzorca: ['pcn', 'sbeoggw', 'fzed', 'effnzhzfjhsoy']\n",
      "Znaleziono dopasowania w liczbie: 4 dla ['pcn', 'sbeoggw', 'fzed', 'effnzhzfjhsoy'] na indeksach: [5, 36, 51, 85]\n",
      "Znaleziono dopasowania w liczbie: 4 dla ['pcn', 'sbeoggw', 'fzed', 'effnzhzfjhsoy'] na indeksach: [5, 36, 51, 85]\n",
      "---------------------------------\n",
      "NIE W TEKŚCIE\n",
      "Dla wzorca: ['brzęczyszczykiewicz', 'Roman', 'Ładnie', 'wielbłąd']\n",
      "Nie znaleziono dopasowań wzorca.\n",
      "Nie znaleziono dopasowań wzorca.\n"
     ]
    }
   ],
   "source": [
    "print(\"W tekście: \\n\", Texts[4])\n",
    "\n",
    "in_text = [Texts[4][5:8],Texts[4][51:58], Texts[4][36:40], Texts[4][85:98]]\n",
    "not_in_text = [\"brzęczyszczykiewicz\", \"Roman\", \"Ładnie\", \"wielbłąd\"]\n",
    "\n",
    "print(\"W TEKŚCIE\")\n",
    "compare_tries(in_text, Texts[4])\n",
    "print(\"---------------------------------\")\n",
    "print(\"NIE W TEKŚCIE\")\n",
    "compare_tries(not_in_text, Texts[4])\n",
    "\n"
   ]
  },
  {
   "attachments": {},
   "cell_type": "markdown",
   "metadata": {},
   "source": [
    "## Porównaj szybkość działania algorytmów konstruujących struktury danych"
   ]
  },
  {
   "cell_type": "code",
   "execution_count": 33,
   "metadata": {},
   "outputs": [],
   "source": [
    "from time import perf_counter\n",
    "\n",
    "def measure_time(TrieType):\n",
    "    start_time = perf_counter()\n",
    "    trie = TrieType()\n",
    "    trie.insert(t)\n",
    "    end_time = perf_counter()\n",
    "    return end_time - start_time\n"
   ]
  },
  {
   "cell_type": "code",
   "execution_count": 34,
   "metadata": {},
   "outputs": [
    {
     "name": "stdout",
     "output_type": "stream",
     "text": [
      "---------------------------------\n",
      "Telst :  bbb$\n",
      "Czas Top Down Trie:  8.700000002193065e-06 s\n",
      "Czas Next Letter Trie:  0.011709800000005544 s\n",
      "---------------------------------\n",
      "Telst :  aabbabd\n",
      "Czas Top Down Trie:  1.170000000172422e-05 s\n",
      "Czas Next Letter Trie:  0.01787010000000322 s\n",
      "---------------------------------\n",
      "Telst :  ababcd\n",
      "Czas Top Down Trie:  1.250000000396767e-05 s\n",
      "Czas Next Letter Trie:  0.01719049999999811 s\n",
      "---------------------------------\n",
      "Telst :  abaababaabaabaabab$\n",
      "Czas Top Down Trie:  1.689999999854308e-05 s\n",
      "Czas Next Letter Trie:  0.04200349999999986 s\n",
      "---------------------------------\n",
      "Tekst :  vbjllpcntcwavngazyjh\n",
      "Czas Top Down Trie:  5.72000000005346e-05 s\n",
      "Czas Next Letter Trie:  0.2562624999999983 s\n",
      "---------------------------------\n",
      "Tekst :  \n",
      "\n",
      "\n",
      "\n",
      "Dz.U. z 1998 r. \n",
      "Czas Top Down Trie:  0.0011670000000023606 s\n",
      "Czas Next Letter Trie:  12.846343099999999 s\n"
     ]
    }
   ],
   "source": [
    "for t in Texts:\n",
    "    print(\"---------------------------------\")\n",
    "    trie_time = measure_time(Trie)\n",
    "    NL_trie_time = measure_time(NextLetterTrie)\n",
    "\n",
    "    if len(t) < 20: print(\"Tekst : \" , t)\n",
    "    else: print(\"Tekst : \" , t[:20])\n",
    "    print(\"Czas Top Down Trie: \" , trie_time, \"s\")\n",
    "    print(\"Czas Next Letter Trie: \" , NL_trie_time, \"s\")"
   ]
  },
  {
   "attachments": {},
   "cell_type": "markdown",
   "metadata": {},
   "source": [
    "Zauważyć można znaczną przewagę Top Down Trie, jednak prawdopodobnie Next Letter Trie dużo traci na operowaniu na dużej tablicy(dla UTF-8), czego zmiana mogłaby delikatnie zmniejszyć ten dystans."
   ]
  }
 ],
 "metadata": {
  "kernelspec": {
   "display_name": "base",
   "language": "python",
   "name": "python3"
  },
  "language_info": {
   "codemirror_mode": {
    "name": "ipython",
    "version": 3
   },
   "file_extension": ".py",
   "mimetype": "text/x-python",
   "name": "python",
   "nbconvert_exporter": "python",
   "pygments_lexer": "ipython3",
   "version": "3.9.12"
  },
  "orig_nbformat": 4
 },
 "nbformat": 4,
 "nbformat_minor": 2
}
