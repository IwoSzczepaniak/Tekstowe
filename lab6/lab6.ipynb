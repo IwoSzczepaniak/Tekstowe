{
 "cells": [
  {
   "cell_type": "code",
   "execution_count": 59,
   "metadata": {},
   "outputs": [],
   "source": [
    "from string import ascii_lowercase\n",
    "from random import choice\n",
    "\n",
    "t1 = \"bbb$\"\n",
    "t2 = \"aabbabd\"\n",
    "t3 = \"ababcd\"\n",
    "t4 = \"abaababaabaabaabab$\"\n",
    "\n",
    "\n",
    "t5 = ''.join(choice(ascii_lowercase) for _ in range(99))+\"$\"\n",
    "\n",
    "with open(\"1997_714_head.txt\", \"r\") as f:\n",
    "    t6 = f.read()\n",
    "\n",
    "with open(\"Gallia_est.txt\", \"r\") as f:\n",
    "    t7 = f.read()\n",
    "\n"
   ]
  },
  {
   "attachments": {},
   "cell_type": "markdown",
   "metadata": {},
   "source": [
    "## Class definition"
   ]
  },
  {
   "cell_type": "code",
   "execution_count": 60,
   "metadata": {},
   "outputs": [],
   "source": [
    "class TrieNode:\n",
    "    def __init__(self):\n",
    "        self.children = {}\n",
    "        self.is_end_of_word = False\n",
    "\n",
    "\n",
    "class Trie:\n",
    "    def __init__(self):\n",
    "        self.root = TrieNode()\n",
    "\n",
    "    def insert(self, pattern):\n",
    "        node = self.root\n",
    "        for char in pattern:\n",
    "            if char not in node.children:\n",
    "                node.children[char] = TrieNode()\n",
    "            node = node.children[char]\n",
    "        node.is_end_of_word = True\n",
    "\n",
    "    def search(self, text):\n",
    "        results = []\n",
    "        for i in range(len(text)):\n",
    "            node = self.root\n",
    "            j = i\n",
    "            while j < len(text) and text[j] in node.children:\n",
    "                node = node.children[text[j]]\n",
    "                j += 1\n",
    "                if node.is_end_of_word:\n",
    "                    results.append(i)\n",
    "        return results\n",
    "\n",
    "    def illustrate(self):\n",
    "        def _illustrate(node, level=0):\n",
    "            prefix = \"  \" * level\n",
    "            print(prefix + \"- (node)\")\n",
    "            for char, child in node.children.items():\n",
    "                indicator = \" \" if not child.is_end_of_word else \"*\"\n",
    "                print(prefix + \"|- \" + char + indicator)\n",
    "                _illustrate(child, level + 1)\n",
    "\n",
    "        _illustrate(self.root)\n",
    "\n"
   ]
  },
  {
   "cell_type": "code",
   "execution_count": 61,
   "metadata": {},
   "outputs": [],
   "source": [
    "def print_indexes(matches, pattern):\n",
    "    if matches:\n",
    "        print(f\"Znaleziono dopasowania w ilości: {len(matches)} dla wzorca {pattern} na indeksach: {matches}\")\n",
    "    else:\n",
    "        print(\"Nie znaleziono dopasowań wzorca.\")"
   ]
  },
  {
   "cell_type": "code",
   "execution_count": 65,
   "metadata": {},
   "outputs": [],
   "source": [
    "def trie_search(text, pattern):\n",
    "    trie = Trie()\n",
    "    trie.insert(pattern)\n",
    "\n",
    "    matches = trie.search(text)\n",
    "    print_indexes(matches, pattern)\n",
    "    # trie.illustrate()"
   ]
  },
  {
   "attachments": {},
   "cell_type": "markdown",
   "metadata": {},
   "source": [
    "## Easy task"
   ]
  },
  {
   "cell_type": "code",
   "execution_count": 66,
   "metadata": {},
   "outputs": [
    {
     "name": "stdout",
     "output_type": "stream",
     "text": [
      "Znaleziono dopasowania w ilości: 2 dla wzorca ban na indeksach: [9, 24]\n"
     ]
    }
   ],
   "source": [
    "text = \"There is banana in this banned world\"\n",
    "pattern = \"ban\"\n",
    "\n",
    "trie_search(text, pattern)"
   ]
  },
  {
   "attachments": {},
   "cell_type": "markdown",
   "metadata": {},
   "source": [
    "## 1997_714_head"
   ]
  },
  {
   "cell_type": "code",
   "execution_count": 67,
   "metadata": {},
   "outputs": [
    {
     "name": "stdout",
     "output_type": "stream",
     "text": [
      "Znaleziono dopasowania w ilości: 8 dla wzorca przych na indeksach: [393, 754, 996, 1119, 1263, 1355, 1430, 1707]\n"
     ]
    }
   ],
   "source": [
    "text = t6\n",
    "pattern = \"przych\"\n",
    "\n",
    "trie_search(text, pattern)"
   ]
  },
  {
   "attachments": {},
   "cell_type": "markdown",
   "metadata": {},
   "source": [
    "## Gallia est omnis divisa in partes tres"
   ]
  },
  {
   "cell_type": "code",
   "execution_count": 68,
   "metadata": {},
   "outputs": [
    {
     "name": "stdout",
     "output_type": "stream",
     "text": [
      "Znaleziono dopasowania w ilości: 4 dla wzorca Gall na indeksach: [0, 128, 204, 615]\n"
     ]
    }
   ],
   "source": [
    "text = t7\n",
    "pattern = \"Gall\"\n",
    "\n",
    "trie_search(text, pattern)"
   ]
  }
 ],
 "metadata": {
  "kernelspec": {
   "display_name": "base",
   "language": "python",
   "name": "python3"
  },
  "language_info": {
   "codemirror_mode": {
    "name": "ipython",
    "version": 3
   },
   "file_extension": ".py",
   "mimetype": "text/x-python",
   "name": "python",
   "nbconvert_exporter": "python",
   "pygments_lexer": "ipython3",
   "version": "3.9.12"
  },
  "orig_nbformat": 4
 },
 "nbformat": 4,
 "nbformat_minor": 2
}
