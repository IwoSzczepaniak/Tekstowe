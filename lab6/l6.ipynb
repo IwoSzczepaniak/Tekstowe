{
 "cells": [
  {
   "cell_type": "code",
   "execution_count": 8,
   "metadata": {},
   "outputs": [
    {
     "name": "stdout",
     "output_type": "stream",
     "text": [
      "Word not found in the text.\n"
     ]
    }
   ],
   "source": [
    "class TrieNode:\n",
    "    def __init__(self):\n",
    "        self.children = {}\n",
    "        self.is_end_of_word = False\n",
    "\n",
    "\n",
    "class Trie:\n",
    "    def __init__(self):\n",
    "        self.root = TrieNode()\n",
    "\n",
    "    def insert(self, pattern):\n",
    "        node = self.root\n",
    "        for char in pattern:\n",
    "            if char not in node.children:\n",
    "                node.children[char] = TrieNode()\n",
    "            node = node.children[char]\n",
    "        node.is_end_of_word = True\n",
    "\n",
    "    def search(self, text):\n",
    "        results = []\n",
    "        for i in range(len(text)):\n",
    "            node = self.root\n",
    "            j = i\n",
    "            while j < len(text) and text[j] in node.children:\n",
    "                node = node.children[text[j]]\n",
    "                j += 1\n",
    "                if node.is_end_of_word:\n",
    "                    results.append(i)\n",
    "        return results\n",
    "\n",
    "\n",
    "# Przykład użycia\n",
    "trie = Trie()\n",
    "text = \"There is banana in this world\"\n",
    "pattern = \"ban\"\n",
    "\n",
    "\n",
    "trie.insert(pattern)\n",
    "\n",
    "matches = trie.search(text)\n",
    "if matches:\n",
    "    print(\"Znaleziono dopasowania wzorca na indeksach:\", matches)\n",
    "else:\n",
    "    print(\"Nie znaleziono dopasowań wzorca.\")\n"
   ]
  }
 ],
 "metadata": {
  "kernelspec": {
   "display_name": "base",
   "language": "python",
   "name": "python3"
  },
  "language_info": {
   "codemirror_mode": {
    "name": "ipython",
    "version": 3
   },
   "file_extension": ".py",
   "mimetype": "text/x-python",
   "name": "python",
   "nbconvert_exporter": "python",
   "pygments_lexer": "ipython3",
   "version": "3.9.12"
  },
  "orig_nbformat": 4
 },
 "nbformat": 4,
 "nbformat_minor": 2
}
