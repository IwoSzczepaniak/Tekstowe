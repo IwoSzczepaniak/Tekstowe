{
 "cells": [
  {
   "cell_type": "code",
   "execution_count": 193,
   "metadata": {},
   "outputs": [],
   "source": [
    "from heapq import heappush, heappop\n",
    "import os, pickle, random, glob\n",
    "from collections import defaultdict\n",
    "from time import time\n",
    "import heapq"
   ]
  },
  {
   "cell_type": "code",
   "execution_count": 194,
   "metadata": {},
   "outputs": [],
   "source": [
    "class Node:\n",
    "    def __init__(self, symbol=None, freq=None, left=None, right=None):\n",
    "        self.symbol = symbol\n",
    "        self.freq = freq\n",
    "        self.left = left\n",
    "        self.right = right\n",
    "\n",
    "    def __lt__(self, other):\n",
    "        return self.freq < other.freq\n",
    "\n",
    "    def is_leaf(self):\n",
    "        return self.left is None and self.right is None"
   ]
  },
  {
   "attachments": {},
   "cell_type": "markdown",
   "metadata": {},
   "source": [
    "## ZAD1"
   ]
  },
  {
   "cell_type": "code",
   "execution_count": 195,
   "metadata": {},
   "outputs": [],
   "source": [
    "def huffman_encoding(data):\n",
    "    # count the frequency of each symbol in the input data\n",
    "    freq = {}\n",
    "    for symbol in data:\n",
    "        freq[symbol] = freq.get(symbol, 0) + 1\n",
    "\n",
    "    # build the heap\n",
    "    heap = []\n",
    "    for symbol, freq in freq.items():\n",
    "        node = Node(symbol, freq)\n",
    "        heappush(heap, node)\n",
    "\n",
    "    # build the Huffman tree\n",
    "    while len(heap) > 1:\n",
    "        left = heappop(heap)\n",
    "        right = heappop(heap)\n",
    "        parent = Node(None, left.freq + right.freq, left, right)\n",
    "        heappush(heap, parent)\n",
    "\n",
    "    # create root\n",
    "    root = heap[0]\n",
    "\n",
    "    # build the Huffman codes for each symbol\n",
    "    codes = {}\n",
    "    def build_codes(node, code):\n",
    "        if node is None:\n",
    "            return\n",
    "        if node.is_leaf():\n",
    "            codes[node.symbol] = code\n",
    "            return\n",
    "        build_codes(node.left, code + '0')\n",
    "        build_codes(node.right, code + '1')\n",
    "    build_codes(root, '')\n",
    "\n",
    "    # encode the input data using the Huffman codes\n",
    "    encoded_data = ''.join(codes[symbol] for symbol in data)\n",
    "\n",
    "    # pad the encoded data with zeroes to make its length a multiple of 8\n",
    "    pad_length = 8 - len(encoded_data) % 8\n",
    "    encoded_data += '0' * pad_length\n",
    "\n",
    "    # convert the encoded data to bytes\n",
    "    encoded_bytes = bytearray()\n",
    "    for i in range(0, len(encoded_data), 8):\n",
    "        byte = int(encoded_data[i:i+8], 2)\n",
    "        encoded_bytes.append(byte)\n",
    "\n",
    "    return encoded_bytes, root, codes"
   ]
  },
  {
   "cell_type": "code",
   "execution_count": 196,
   "metadata": {},
   "outputs": [],
   "source": [
    "def huffman_decoding(encoded_data, root):\n",
    "    # convert the encoded data from bytes to binary string\n",
    "    encoded_bits = ''.join(format(byte, '08b') for byte in encoded_data)\n",
    "\n",
    "    # decode the input data using the Huffman tree\n",
    "    decoded_data = ''\n",
    "    node = root\n",
    "    for bit in encoded_bits:\n",
    "        if bit == '0':\n",
    "            node = node.left\n",
    "        else:\n",
    "            node = node.right\n",
    "        if node.is_leaf():\n",
    "            decoded_data += node.symbol\n",
    "            node = root\n",
    "\n",
    "    return decoded_data"
   ]
  },
  {
   "cell_type": "code",
   "execution_count": 197,
   "metadata": {},
   "outputs": [
    {
     "name": "stdout",
     "output_type": "stream",
     "text": [
      "Input data: this is a test string\n",
      "\n",
      "Encoded data: bytearray(b'-33t\\xe6\\x1czW\\xfa')\n",
      "Decoded data: this is a test string\n",
      "\n",
      "Codes: {'t': '00', ' ': '01', 'i': '100', 'n': '1010', 'h': '10110', 'a': '10111', 's': '110', 'e': '11100', '\\n': '11101', 'r': '11110', 'g': '11111'}\n"
     ]
    }
   ],
   "source": [
    "data = \"this is a test string\\n\"\n",
    "encoded_bytes, root, codes = huffman_encoding(data)\n",
    "decoded_data = huffman_decoding(encoded_bytes, root)\n",
    "\n",
    "print(\"Input data:\", data)\n",
    "print(\"Encoded data:\", encoded_bytes)\n",
    "print(\"Decoded data:\", decoded_data)\n",
    "print(\"Codes:\", codes)"
   ]
  },
  {
   "cell_type": "code",
   "execution_count": 198,
   "metadata": {},
   "outputs": [],
   "source": [
    "def huffman(input_file, output_file, remove = False):\n",
    "    binary_file = \"encoded_gutenberg.bin\"\n",
    "    t1 = time()\n",
    "    with open(input_file, \"r\", encoding=\"latin-1\") as f:\n",
    "        data = f.read()\n",
    "    encoded_bytes, root, codes = huffman_encoding(data)\n",
    "    data_length = len(data)\n",
    "    with open(binary_file, \"wb\") as f:\n",
    "        pickle.dump(encoded_bytes, f)\n",
    "    t2 = time()\n",
    "    with open(binary_file, \"rb\") as f:\n",
    "        encoded_bytes = pickle.load(f)\n",
    "    decoded_data = huffman_decoding(encoded_bytes, root)[:data_length]\n",
    "    with open(output_file, \"w\", encoding=\"utf-8\") as f:\n",
    "        f.write(decoded_data)\n",
    "    t3 = time()\n",
    "\n",
    "    res = round(100 - 100*os.stat(binary_file).st_size/os.stat(input_file).st_size)\n",
    "    if remove:\n",
    "        os.remove(binary_file)\n",
    "        os.remove(output_file)\n",
    "    return res, t2-t1, t3-t2\n",
    "\n"
   ]
  },
  {
   "attachments": {},
   "cell_type": "markdown",
   "metadata": {},
   "source": [
    "### Creating rand"
   ]
  },
  {
   "cell_type": "code",
   "execution_count": 199,
   "metadata": {},
   "outputs": [],
   "source": [
    "# random_input_file = \"rand_1kB.txt\"\n",
    "# with open(random_input_file, 'wb') as f:\n",
    "#     for i in range(10**3):\n",
    "#         value = random.randint(0, 255)\n",
    "#         f.write(bytes([value]))"
   ]
  },
  {
   "attachments": {},
   "cell_type": "markdown",
   "metadata": {},
   "source": [
    "## Time measurement"
   ]
  },
  {
   "cell_type": "code",
   "execution_count": 200,
   "metadata": {},
   "outputs": [
    {
     "name": "stdout",
     "output_type": "stream",
     "text": [
      "gut_1000kb.txt\tsize: 988kB \tcopression result: 42%\t  Compression time:0.365s\t Decompression time: 0.952s\n",
      "gut_100kb.txt\tsize: 91kB \tcopression result: 44%\t  Compression time:0.032s\t Decompression time: 0.086s\n",
      "gut_10kb.txt\tsize: 11kB \tcopression result: 38%\t  Compression time:0.006s\t Decompression time: 0.013s\n",
      "gut_1kb.txt\tsize: 1kB \tcopression result: 28%\t  Compression time:0.002s\t Decompression time: 0.002s\n",
      "lin_1000kB.txt\tsize: 1014kB \tcopression result: 35%\t  Compression time:0.373s\t Decompression time: 1.132s\n",
      "lin_100kB.txt\tsize: 28kB \tcopression result: 35%\t  Compression time:0.013s\t Decompression time: 0.033s\n",
      "lin_10kB.txt\tsize: 10kB \tcopression result: 34%\t  Compression time:0.006s\t Decompression time: 0.013s\n",
      "lin_1kB.txt\tsize: 3kB \tcopression result: 33%\t  Compression time:0.003s\t Decompression time: 0.005s\n",
      "rand_1000kB.txt\tsize: 1000kB \tcopression result: 0%\t  Compression time:0.467s\t Decompression time: 1.567s\n",
      "rand_100kB.txt\tsize: 100kB \tcopression result: 0%\t  Compression time:0.048s\t Decompression time: 0.153s\n",
      "rand_10kB.txt\tsize: 10kB \tcopression result: 0%\t  Compression time:0.007s\t Decompression time: 0.019s\n",
      "rand_1kB.txt\tsize: 1kB \tcopression result: -2%\t  Compression time:0.004s\t Decompression time: 0.003s\n"
     ]
    }
   ],
   "source": [
    "for input_file in glob.glob(\"*.txt\"):    \n",
    "    output_file = \"output_\"+input_file\n",
    "    compression, c_time, d_time = huffman(input_file, output_file, True)\n",
    "    print(f\"{input_file}\\tsize: {round(os.stat(input_file).st_size/1000)}kB \\tcopression result: {compression}%\\t  Compression time:{round(c_time,3)}s\\t Decompression time: {round(d_time,3)}s\")\n"
   ]
  },
  {
   "attachments": {},
   "cell_type": "markdown",
   "metadata": {},
   "source": [
    "## ZAD2"
   ]
  },
  {
   "cell_type": "code",
   "execution_count": 201,
   "metadata": {},
   "outputs": [],
   "source": [
    "class HuffmanEncoder:\n",
    "    def __init__(self):\n",
    "        self.root = None\n",
    "        self.codes = {}\n",
    "\n",
    "    def build_tree(self, freq_table):\n",
    "        # build the heap\n",
    "        heap = []\n",
    "        for symbol, freq in freq_table.items():\n",
    "            node = Node(symbol, freq)\n",
    "            heapq.heappush(heap, node)\n",
    "\n",
    "        # build the Huffman tree\n",
    "        while len(heap) > 1:\n",
    "            left = heapq.heappop(heap)\n",
    "            right = heapq.heappop(heap)\n",
    "            parent = Node(None, left.freq + right.freq, left, right)\n",
    "            heapq.heappush(heap, parent)\n",
    "\n",
    "        # create root\n",
    "        self.root = heap[0]\n",
    "\n",
    "        # build the Huffman codes for each symbol\n",
    "        def build_codes(node, code):\n",
    "            if node is None:\n",
    "                return\n",
    "            if node.is_leaf():\n",
    "                self.codes[node.symbol] = code\n",
    "                return\n",
    "            build_codes(node.left, code + '0')\n",
    "            build_codes(node.right, code + '1')\n",
    "\n",
    "        build_codes(self.root, '')\n",
    "\n",
    "    def encode(self, data):\n",
    "        # update frequency table with new symbols\n",
    "        freq_table = {}\n",
    "        for symbol in data:\n",
    "            freq_table[symbol] = freq_table.get(symbol, 0) + 1\n",
    "\n",
    "        # build Huffman tree and codes\n",
    "        self.build_tree(freq_table)\n",
    "\n",
    "        # encode the input data using the Huffman codes\n",
    "        encoded_data = ''.join(self.codes[byte] for byte in data)\n",
    "\n",
    "        # pad the encoded data with zeroes to make its length a multiple of 8\n",
    "        pad_length = 8 - len(encoded_data) % 8\n",
    "        encoded_data += '0' * pad_length\n",
    "\n",
    "        # convert the encoded data to bytes\n",
    "        encoded_bytes = bytearray()\n",
    "        for i in range(0, len(encoded_data), 8):\n",
    "            byte = int(encoded_data[i:i+8], 2)\n",
    "            encoded_bytes.append(byte)\n",
    "\n",
    "        return encoded_bytes\n",
    "\n",
    "class HuffmanDecoder:\n",
    "    def __init__(self, root):\n",
    "        self.root = root\n",
    "\n",
    "    def decode(self, encoded_data):\n",
    "        # convert the encoded data from bytes to binary string\n",
    "        encoded_bits = ''.join(format(byte, '08b') for byte in encoded_data)\n",
    "\n",
    "        # decode the input data using the Huffman tree\n",
    "        decoded_data = ''\n",
    "        node = self.root\n",
    "        for bit in encoded_bits:\n",
    "            if bit == '0':\n",
    "                node = node.left\n",
    "            else:\n",
    "                node = node.right\n",
    "            if node.is_leaf():\n",
    "                decoded_data += node.symbol\n",
    "                node = self.root\n",
    "\n",
    "        return decoded_data\n"
   ]
  },
  {
   "cell_type": "code",
   "execution_count": 202,
   "metadata": {},
   "outputs": [
    {
     "name": "stdout",
     "output_type": "stream",
     "text": [
      "Original data: this is a test string\n",
      "\n",
      "Encoded data: bytearray(b'-33t\\xe6\\x1czW\\xfa')\n",
      "Decoded data: this is a test string\n",
      "\n"
     ]
    }
   ],
   "source": [
    "data = \"this is a test string\\n\"\n",
    "\n",
    "encoder = HuffmanEncoder()\n",
    "encoded_data = encoder.encode(data)\n",
    "decoder = HuffmanDecoder(encoder.root)\n",
    "decoded_data = decoder.decode(encoded_data)\n",
    "\n",
    "print(\"Original data: {}\".format(data))\n",
    "print(\"Encoded data: {}\".format(encoded_data))\n",
    "print(\"Decoded data: {}\".format(decoded_data))\n"
   ]
  },
  {
   "cell_type": "code",
   "execution_count": 203,
   "metadata": {},
   "outputs": [],
   "source": [
    "def dynamic_huffman(input_file, output_file, remove = False):\n",
    "    binary_file = \"encoded_gutenberg.bin\"\n",
    "    t1 = time()\n",
    "    with open(input_file, \"r\", encoding=\"latin-1\") as f:\n",
    "        data = f.read()\n",
    "    encoder = HuffmanEncoder()\n",
    "    encoded_bytes = encoder.encode(data)\n",
    "    data_length = len(data)\n",
    "    with open(binary_file, \"wb\") as f:\n",
    "        pickle.dump(encoded_bytes, f)\n",
    "    t2 = time()\n",
    "    with open(binary_file, \"rb\") as f:\n",
    "        encoded_bytes = pickle.load(f)\n",
    "    decoder = HuffmanDecoder(encoder.root)\n",
    "    decoded_data = decoder.decode(encoded_data)\n",
    "    with open(output_file, \"w\", encoding=\"utf-8\") as f:\n",
    "        f.write(decoded_data)\n",
    "    t3 = time()\n",
    "    res = round(100 - 100*os.stat(binary_file).st_size/os.stat(input_file).st_size)\n",
    "    if remove:\n",
    "        os.remove(binary_file)\n",
    "        os.remove(output_file)\n",
    "    return res, t2-t1, t3-t2\n"
   ]
  },
  {
   "attachments": {},
   "cell_type": "markdown",
   "metadata": {},
   "source": [
    "## Time measurement"
   ]
  },
  {
   "cell_type": "code",
   "execution_count": 204,
   "metadata": {},
   "outputs": [
    {
     "name": "stdout",
     "output_type": "stream",
     "text": [
      "gut_1000kb.txt\tsize: 988kB \tcopression result: 42%\t  Compression time:0.347s\t Decompression time: 0.002s\n",
      "gut_100kb.txt\tsize: 91kB \tcopression result: 44%\t  Compression time:0.032s\t Decompression time: 0.001s\n",
      "gut_10kb.txt\tsize: 11kB \tcopression result: 38%\t  Compression time:0.005s\t Decompression time: 0.002s\n",
      "gut_1kb.txt\tsize: 1kB \tcopression result: 28%\t  Compression time:0.002s\t Decompression time: 0.002s\n",
      "lin_1000kB.txt\tsize: 1014kB \tcopression result: 35%\t  Compression time:0.381s\t Decompression time: 0.004s\n",
      "lin_100kB.txt\tsize: 28kB \tcopression result: 35%\t  Compression time:0.013s\t Decompression time: 0.001s\n",
      "lin_10kB.txt\tsize: 10kB \tcopression result: 34%\t  Compression time:0.007s\t Decompression time: 0.002s\n",
      "lin_1kB.txt\tsize: 3kB \tcopression result: 33%\t  Compression time:0.003s\t Decompression time: 0.002s\n",
      "rand_1000kB.txt\tsize: 1000kB \tcopression result: 0%\t  Compression time:0.503s\t Decompression time: 0.002s\n",
      "rand_100kB.txt\tsize: 100kB \tcopression result: 0%\t  Compression time:0.05s\t Decompression time: 0.001s\n",
      "rand_10kB.txt\tsize: 10kB \tcopression result: 0%\t  Compression time:0.006s\t Decompression time: 0.002s\n",
      "rand_1kB.txt\tsize: 1kB \tcopression result: -2%\t  Compression time:0.003s\t Decompression time: 0.001s\n"
     ]
    }
   ],
   "source": [
    "for input_file in glob.glob(\"*.txt\"): \n",
    "    output_file = \"output_\"+input_file\n",
    "    compression, c_time, d_time = dynamic_huffman(input_file, output_file, True)\n",
    "    print(f\"{input_file}\\tsize: {round(os.stat(input_file).st_size/1000)}kB \\tcopression result: {compression}%\\t  Compression time:{round(c_time,3)}s\\t Decompression time: {round(d_time,3)}s\")\n"
   ]
  }
 ],
 "metadata": {
  "kernelspec": {
   "display_name": "base",
   "language": "python",
   "name": "python3"
  },
  "language_info": {
   "codemirror_mode": {
    "name": "ipython",
    "version": 3
   },
   "file_extension": ".py",
   "mimetype": "text/x-python",
   "name": "python",
   "nbconvert_exporter": "python",
   "pygments_lexer": "ipython3",
   "version": "3.9.12"
  },
  "orig_nbformat": 4
 },
 "nbformat": 4,
 "nbformat_minor": 2
}
