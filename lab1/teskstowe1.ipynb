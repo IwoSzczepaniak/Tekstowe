{
 "cells": [
  {
   "attachments": {},
   "cell_type": "markdown",
   "metadata": {},
   "source": [
    "Iwo Szczepaniak"
   ]
  },
  {
   "attachments": {},
   "cell_type": "markdown",
   "metadata": {},
   "source": [
    "### Zad 1 i 2\n",
    "Zaimplementuj w Pythonie algorytmy wyszukiwania wzorców:\n",
    "naiwny\n",
    "automat skończony\n",
    "algorytm KMP\n",
    "Zaimplementuj testy porównujące szybkość działania wyżej wymienionych algorytmów, z rozbiciem na czasu pre-processingu oraz czas wyszukiwania wzorca w tekście (1p)."
   ]
  },
  {
   "cell_type": "code",
   "execution_count": 27,
   "metadata": {},
   "outputs": [],
   "source": [
    "from time import perf_counter as timer"
   ]
  },
  {
   "attachments": {},
   "cell_type": "markdown",
   "metadata": {},
   "source": [
    "### NAIVE ALGORITHM"
   ]
  },
  {
   "cell_type": "code",
   "execution_count": 28,
   "metadata": {},
   "outputs": [],
   "source": [
    "def naive(text, key):\n",
    "    start = timer()\n",
    "    res = []\n",
    "    n = len(text)\n",
    "    m = len(key)\n",
    "    for i in range(n-m+1):\n",
    "        if text[i:i+m] == key: res.append(i)\n",
    "    end = timer()\n",
    "    return res, 0, end - start"
   ]
  },
  {
   "attachments": {},
   "cell_type": "markdown",
   "metadata": {},
   "source": [
    "### FINATE AUTOMATON"
   ]
  },
  {
   "cell_type": "code",
   "execution_count": 29,
   "metadata": {},
   "outputs": [],
   "source": [
    "def transition_table(pattern):\n",
    "    alphabet = set(pattern)\n",
    "    n = len(pattern)\n",
    "    result = []\n",
    "    for q in range(n+1):\n",
    "        result.append({})\n",
    "        for l in alphabet:\n",
    "            k = min(n, q+1)\n",
    "            while True:\n",
    "                if k == 0 or pattern[:k] == (pattern[:q] + l)[-k:]:\n",
    "                    break\n",
    "                k -= 1\n",
    "            result[q][l] = k\n",
    "    return result\n",
    "\n",
    "\n",
    "def finite_automaton(text, pattern):\n",
    "    q = 0\n",
    "    pre_start = timer()\n",
    "    trasn_table = transition_table(pattern)\n",
    "    pre_end = start = timer()\n",
    "    text_len = len(text)\n",
    "    result = []\n",
    "    for s in range(text_len):\n",
    "        if text[s] in trasn_table[q]:\n",
    "            q = trasn_table[q][text[s]]\n",
    "            if q == len(trasn_table) - 1:\n",
    "                result.append(s+1-q)\n",
    "        else:\n",
    "            q = 0\n",
    "    end = timer()\n",
    "    return result, pre_end-pre_start, end - start\n"
   ]
  },
  {
   "attachments": {},
   "cell_type": "markdown",
   "metadata": {},
   "source": [
    "### KMP"
   ]
  },
  {
   "cell_type": "code",
   "execution_count": 30,
   "metadata": {},
   "outputs": [],
   "source": [
    "def kmp(text, pattern):\n",
    "    n = len(text)\n",
    "    m = len(pattern)\n",
    "    pre_start = timer()\n",
    "    lps = compute_lps(pattern)\n",
    "    pre_end = start= timer()\n",
    "    i = 0\n",
    "    j = 0\n",
    "    indices = []\n",
    "    while i < n:\n",
    "        if text[i] == pattern[j]:\n",
    "            i += 1\n",
    "            j += 1\n",
    "        if j == m:\n",
    "            indices.append(i - j)\n",
    "            j = lps[j - 1]\n",
    "        elif i < n and text[i] != pattern[j]:\n",
    "            if j != 0:\n",
    "                j = lps[j - 1]\n",
    "            else:\n",
    "                i += 1\n",
    "    end = timer()\n",
    "    return indices, pre_end-pre_start, end - start\n",
    "\n",
    "def compute_lps(pattern):\n",
    "    m = len(pattern)\n",
    "    lps = [0] * m\n",
    "    i = 1\n",
    "    j = 0\n",
    "    while i < m:\n",
    "        if pattern[i] == pattern[j]:\n",
    "            j += 1\n",
    "            lps[i] = j\n",
    "            i += 1\n",
    "        elif j != 0:\n",
    "            j = lps[j - 1]\n",
    "        else:\n",
    "            lps[i] = 0\n",
    "            i += 1\n",
    "    return lps"
   ]
  },
  {
   "cell_type": "code",
   "execution_count": 31,
   "metadata": {},
   "outputs": [],
   "source": [
    "def compare(text, key):\n",
    "    result_naive, pretime_naive, time_naive = naive(text, key)\n",
    "    result_fa, pretime_fa,time_fa = finite_automaton(text, key)\n",
    "    result_kmp, pretime_kmp, time_kmp = kmp(text, key)\n",
    "\n",
    "    print(f\"For the key: {key}\")\n",
    "    print(f\"NAIVE ALGORITHM -   in time {time_naive:.6f}s (preprocessing {pretime_naive:.6f}s))\") #; starting on indexes: {result_naive} \")\n",
    "    print(f\"FINITE AUTOMATON -  in time {time_fa:.6f}s (preprocessing {pretime_fa:.6f}s)\") #; starting on indexes: {result_fa} \")\n",
    "    print(f\"KMP -               in time {time_kmp:.6f}s (preprocessing {pretime_kmp:.6f}s)\") #; starting on indexes: {result_kmp} \")\n",
    "    if result_naive == result_fa == result_kmp:\n",
    "        print(f\"\\nALL ALGORITHMS RETURN THE SAME RESULTS - {len(result_naive)} keys in text\")\n",
    "    print(\"-\" * 500)"
   ]
  },
  {
   "attachments": {},
   "cell_type": "markdown",
   "metadata": {},
   "source": [
    "### Zad 3\n",
    "Znajdź wszystkie wystąpienia wzorców \"pan\" oraz \"pani\" w załączonym pliku, za pomocą każdego algorytmu. W raporcie zamieść liczbę dopasowań każdego ze wzorców osobno dla każdego algorytmu. Upewnij się, że każdy algorytm zwraca taką samą liczbę dopasowań (1p).\n"
   ]
  },
  {
   "cell_type": "code",
   "execution_count": 32,
   "metadata": {},
   "outputs": [
    {
     "name": "stdout",
     "output_type": "stream",
     "text": [
      "For the key: pan\n",
      "NAIVE ALGORITHM -   in time 0.059652s (preprocessing 0.000000s))\n",
      "FINITE AUTOMATON -  in time 0.039528s (preprocessing 0.000032s)\n",
      "KMP -               in time 0.086522s (preprocessing 0.000005s)\n",
      "\n",
      "ALL ALGORITHMS RETURN THE SAME RESULTS - 401 keys in text\n",
      "--------------------------------------------------------------------------------------------------------------------------------------------------------------------------------------------------------------------------------------------------------------------------------------------------------------------------------------------------------------------------------------------------------------------------------------------------------------------------------------------------------------------\n",
      "For the key: pani\n",
      "NAIVE ALGORITHM -   in time 0.061375s (preprocessing 0.000000s))\n",
      "FINITE AUTOMATON -  in time 0.043058s (preprocessing 0.000040s)\n",
      "KMP -               in time 0.088908s (preprocessing 0.000006s)\n",
      "\n",
      "ALL ALGORITHMS RETURN THE SAME RESULTS - 100 keys in text\n",
      "--------------------------------------------------------------------------------------------------------------------------------------------------------------------------------------------------------------------------------------------------------------------------------------------------------------------------------------------------------------------------------------------------------------------------------------------------------------------------------------------------------------------\n"
     ]
    }
   ],
   "source": [
    "with open('pan-tadeusz.txt', 'r') as file:\n",
    "    pan_tadeusz = file.read()\n",
    "\n",
    "compare(pan_tadeusz, \"pan\")\n",
    "compare(pan_tadeusz, \"pani\")"
   ]
  },
  {
   "attachments": {},
   "cell_type": "markdown",
   "metadata": {},
   "source": [
    "### Zad4\n",
    "Porównaj szybkość działania algorytmów dla problemu z p. 3, z uwzględnieniem czasu pre-processingu oraz czasu dopasowania. Pomiar czasu powinien być przeprowadzony co najmniej 5-krotnie i przedstawione w formie tabeli oraz wykresu, uwzględniającego czas minimalny, maksymalny oraz średni czas (1p).\n"
   ]
  },
  {
   "cell_type": "code",
   "execution_count": 33,
   "metadata": {},
   "outputs": [],
   "source": [
    "import pandas as pd\n",
    "import matplotlib.pyplot as plt\n",
    "\n",
    "\n",
    "def compare_with_stats(text, key, times):\n",
    "    naive_times = []\n",
    "    fa_times = []\n",
    "    kmp_times = []\n",
    "\n",
    "    for i in range(times):\n",
    "        naive_result, naive_pretime, naive_time = naive(text, key)\n",
    "        naive_times.append(naive_time)\n",
    "\n",
    "        fa_result, fa_pretime, fa_time = finite_automaton(text, key)\n",
    "        fa_times.append(fa_time)\n",
    "\n",
    "        kmp_result, kmp_pretime, kmp_time = kmp(text, key)\n",
    "        kmp_times.append(kmp_time)\n",
    "\n",
    "    data = {'TIME': ['NAIVE', 'FA', 'KMP'],\n",
    "            'Avg(s)': [sum(naive_times) / times, sum(fa_times) / times, sum(kmp_times) / times],\n",
    "            'Min(s)': [min(naive_times), min(fa_times), min(kmp_times)],\n",
    "            'Max(s)': [max(naive_times), max(fa_times), max(kmp_times)],\n",
    "            'Preproc.(s)': [naive_pretime, fa_pretime, kmp_pretime],\n",
    "            'Nr of keys': [int(len(naive_result)), str(len(fa_result)), str(len(kmp_result))]}\n",
    "    plt.bar(['Naive', 'FA', 'KMP'], [sum(naive_times) / times,\n",
    "            sum(fa_times) / times, sum(kmp_times) / times])\n",
    "    plt.title('Average Time Taken by Each Algorithm')\n",
    "    plt.xlabel('Algorithm')\n",
    "    plt.ylabel('Time (s)')\n",
    "    plt.show()\n",
    "\n",
    "    df = pd.DataFrame(data)\n",
    "    df = df.set_index('TIME').transpose()\n",
    "    print(df)\n",
    "    print(\"-\" * 500)\n"
   ]
  },
  {
   "cell_type": "code",
   "execution_count": 34,
   "metadata": {},
   "outputs": [
    {
     "data": {
      "image/png": "[encoded data removed]",
      "text/plain": [
       "<Figure size 432x288 with 1 Axes>"
      ]
     },
     "metadata": {
      "needs_background": "light"
     },
     "output_type": "display_data"
    },
    {
     "name": "stdout",
     "output_type": "stream",
     "text": [
      "TIME            NAIVE        FA       KMP\n",
      "Avg(s)       0.059194  0.039103  0.087961\n",
      "Min(s)        0.05883  0.037934  0.086085\n",
      "Max(s)       0.059712  0.040316  0.090163\n",
      "Preproc.(s)       0.0  0.000026  0.000005\n",
      "Nr of keys        401       401       401\n",
      "--------------------------------------------------------------------------------------------------------------------------------------------------------------------------------------------------------------------------------------------------------------------------------------------------------------------------------------------------------------------------------------------------------------------------------------------------------------------------------------------------------------------\n"
     ]
    },
    {
     "data": {
      "image/png": "[encoded data removed]",
      "text/plain": [
       "<Figure size 432x288 with 1 Axes>"
      ]
     },
     "metadata": {
      "needs_background": "light"
     },
     "output_type": "display_data"
    },
    {
     "name": "stdout",
     "output_type": "stream",
     "text": [
      "TIME            NAIVE        FA       KMP\n",
      "Avg(s)       0.059415  0.043645  0.087977\n",
      "Min(s)       0.058725  0.042561  0.087035\n",
      "Max(s)       0.061251  0.046311   0.08923\n",
      "Preproc.(s)       0.0   0.00004  0.000004\n",
      "Nr of keys        100       100       100\n",
      "--------------------------------------------------------------------------------------------------------------------------------------------------------------------------------------------------------------------------------------------------------------------------------------------------------------------------------------------------------------------------------------------------------------------------------------------------------------------------------------------------------------------\n"
     ]
    }
   ],
   "source": [
    "with open('pan-tadeusz.txt', 'r') as file:\n",
    "    pan_tadeusz = file.read()\n",
    "\n",
    "times = 10\n",
    "compare_with_stats(pan_tadeusz, \"pan\", times)\n",
    "compare_with_stats(pan_tadeusz, \"pani\", times)"
   ]
  },
  {
   "attachments": {},
   "cell_type": "markdown",
   "metadata": {},
   "source": [
    "### Zad 5\n",
    "Zaproponuj tekst oraz wzorzec, dla którego zmierzony czas działania algorytmów 2 oraz 3 (uwzględniający tylko dopasowanie, bez pre-processingu) będzie co najmniej 5-krotnie krótszy niż dla algorytmu naiwnego. Uruchom każdy algorytm na zadanym wzorcu i tekście, w celu sprawdzenia, czy zmierzony czas jest faktycznie co najmniej 5-krotnie krótszy (1p).\n"
   ]
  },
  {
   "cell_type": "code",
   "execution_count": 37,
   "metadata": {},
   "outputs": [
    {
     "data": {
      "image/png": "[encoded data removed]",
      "text/plain": [
       "<Figure size 432x288 with 1 Axes>"
      ]
     },
     "metadata": {
      "needs_background": "light"
     },
     "output_type": "display_data"
    },
    {
     "name": "stdout",
     "output_type": "stream",
     "text": [
      "TIME            NAIVE        FA       KMP\n",
      "Avg(s)       5.806185  0.951475  0.769671\n",
      "Min(s)       5.688456  0.921801  0.757464\n",
      "Max(s)       6.040163  0.979447  0.802141\n",
      "Preproc.(s)       0.0  0.183418  0.004386\n",
      "Nr of keys    2970001   2970001   2970001\n",
      "--------------------------------------------------------------------------------------------------------------------------------------------------------------------------------------------------------------------------------------------------------------------------------------------------------------------------------------------------------------------------------------------------------------------------------------------------------------------------------------------------------------------\n"
     ]
    }
   ],
   "source": [
    "key = \"x\"*30000\n",
    "text = key * 100\n",
    "\n",
    "times = 5\n",
    "\n",
    "compare_with_stats(text, key, times)"
   ]
  },
  {
   "attachments": {},
   "cell_type": "markdown",
   "metadata": {},
   "source": [
    "### Zad6\n",
    "Przedstaw wnioski wynikające z przeprowadzonych eksperymentów, ze szczególnym uwzględnieniem praktycznych konsekwencji wynikających z różnic pomiędzy zaimplementowanymi algorytmami (1p)."
   ]
  },
  {
   "attachments": {},
   "cell_type": "markdown",
   "metadata": {},
   "source": [
    "Osiągnięcie 5 krotnej różnicy wymagało użycia dość skrajnego przypadku - tzn bardzo długiego klucza. W zastosowaniach praktycznych algorytm naiwny zdaje się spełniać wymagania szybkościowe w sposób wystarczający - a nawet często działa szybciej niż algorytmy 2 i 3."
   ]
  }
 ],
 "metadata": {
  "kernelspec": {
   "display_name": "base",
   "language": "python",
   "name": "python3"
  },
  "language_info": {
   "codemirror_mode": {
    "name": "ipython",
    "version": 3
   },
   "file_extension": ".py",
   "mimetype": "text/x-python",
   "name": "python",
   "nbconvert_exporter": "python",
   "pygments_lexer": "ipython3",
   "version": "3.9.12"
  },
  "orig_nbformat": 4
 },
 "nbformat": 4,
 "nbformat_minor": 2
}
